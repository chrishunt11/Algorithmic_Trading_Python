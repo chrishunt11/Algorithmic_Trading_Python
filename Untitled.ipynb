{
 "cells": [
  {
   "cell_type": "markdown",
   "id": "6887e8b4",
   "metadata": {},
   "source": [
    "## CHPT Stock"
   ]
  },
  {
   "cell_type": "code",
   "execution_count": 1,
   "id": "7c4f7b7c",
   "metadata": {},
   "outputs": [],
   "source": [
    "import yfinance as yf\n",
    "import pandas as pd\n",
    "import numpy as np\n",
    "import matplotlib.pyplot as plt\n",
    "\n",
    "## Preprocessing tools\n",
    "from sklearn.model_selection import train_test_split\n",
    "from sklearn.compose import make_column_transformer, make_column_selector\n",
    "from sklearn.pipeline import make_pipeline\n",
    "from sklearn.preprocessing import OneHotEncoder, StandardScaler\n",
    "from sklearn.impute import SimpleImputer\n",
    "## Models & evaluation metrics\n",
    "from sklearn import metrics\n",
    "from sklearn.linear_model import LinearRegression\n",
    "from sklearn.tree import DecisionTreeRegressor\n",
    "from sklearn.ensemble import RandomForestRegressor\n",
    "import joblib\n",
    "## setting random state for reproducibility\n",
    "SEED = 321\n",
    "np.random.seed(SEED)\n",
    "## set pandas to display more columns\n",
    "pd.set_option('display.max_columns',100)"
   ]
  },
  {
   "cell_type": "code",
   "execution_count": null,
   "id": "322fa527",
   "metadata": {},
   "outputs": [],
   "source": [
    "chpt = yf.download('CHPT')"
   ]
  },
  {
   "cell_type": "code",
   "execution_count": null,
   "id": "66bccebc",
   "metadata": {},
   "outputs": [],
   "source": [
    "chpt = chpt.Close.to_frame()"
   ]
  },
  {
   "cell_type": "code",
   "execution_count": null,
   "id": "cc60efaa",
   "metadata": {},
   "outputs": [],
   "source": [
    "chpt['d_returns'] = np.log(chpt.div(chpt.shift(1)))"
   ]
  },
  {
   "cell_type": "code",
   "execution_count": null,
   "id": "02273df0",
   "metadata": {},
   "outputs": [],
   "source": [
    "chpt"
   ]
  },
  {
   "cell_type": "code",
   "execution_count": null,
   "id": "ea3c7ad1",
   "metadata": {},
   "outputs": [],
   "source": [
    "chpt.dropna(inplace=True)"
   ]
  },
  {
   "cell_type": "code",
   "execution_count": null,
   "id": "ba607683",
   "metadata": {},
   "outputs": [],
   "source": [
    "chpt.d_returns.sum()"
   ]
  },
  {
   "cell_type": "code",
   "execution_count": null,
   "id": "03ddf284",
   "metadata": {},
   "outputs": [],
   "source": [
    "np.exp(chpt.d_returns.sum())"
   ]
  },
  {
   "cell_type": "code",
   "execution_count": null,
   "id": "08c088b3",
   "metadata": {},
   "outputs": [],
   "source": [
    "chpt['cumm_returns'] = chpt.d_returns.cumsum().apply(np.exp)\n",
    "chpt"
   ]
  },
  {
   "cell_type": "code",
   "execution_count": null,
   "id": "1725b8ca",
   "metadata": {},
   "outputs": [],
   "source": [
    "chpt.cumm_returns.plot(figsize=(12,8), title='CHPT Buy and Hold', fontsize=12)\n",
    "plt.show()"
   ]
  },
  {
   "cell_type": "code",
   "execution_count": null,
   "id": "5f1597e1",
   "metadata": {},
   "outputs": [],
   "source": [
    "chpt.d_returns.mean()*252"
   ]
  },
  {
   "cell_type": "code",
   "execution_count": null,
   "id": "fe10c7fb",
   "metadata": {},
   "outputs": [],
   "source": [
    "chpt.d_returns.std()*np.sqrt(252)"
   ]
  },
  {
   "cell_type": "code",
   "execution_count": null,
   "id": "62b88428",
   "metadata": {},
   "outputs": [],
   "source": [
    "# Calculating draw downs (finding the peaks and valleys)\n",
    "chpt['cumm_max'] = chpt.cumm_returns.cummax()"
   ]
  },
  {
   "cell_type": "code",
   "execution_count": null,
   "id": "d38e9ffb",
   "metadata": {},
   "outputs": [],
   "source": [
    "chpt[[\"cumm_returns\",\"cumm_max\"]].plot(figsize=(15,8), title='CHPT Cumulative Max', fontsize=12)\n",
    "plt.show()"
   ]
  },
  {
   "cell_type": "code",
   "execution_count": null,
   "id": "65f6fd20",
   "metadata": {},
   "outputs": [],
   "source": [
    "chpt['draw_down'] = chpt['cumm_max'] - chpt['cumm_returns']"
   ]
  },
  {
   "cell_type": "code",
   "execution_count": null,
   "id": "eff321ba",
   "metadata": {},
   "outputs": [],
   "source": [
    "chpt.draw_down.max()"
   ]
  },
  {
   "cell_type": "code",
   "execution_count": null,
   "id": "88cdaaa9",
   "metadata": {},
   "outputs": [],
   "source": [
    "chpt.draw_down.idxmax()"
   ]
  },
  {
   "cell_type": "code",
   "execution_count": null,
   "id": "1e80e7ae",
   "metadata": {},
   "outputs": [],
   "source": [
    "# Calculating drawdown percentage\n",
    "chpt['draw_down_percentage'] = (chpt['cumm_max'] - chpt['cumm_returns']) / chpt['cumm_max']"
   ]
  },
  {
   "cell_type": "code",
   "execution_count": null,
   "id": "965b4601",
   "metadata": {},
   "outputs": [],
   "source": [
    "chpt.draw_down_percentage.max()"
   ]
  },
  {
   "cell_type": "code",
   "execution_count": null,
   "id": "29f9d2fa",
   "metadata": {},
   "outputs": [],
   "source": [
    "chpt.draw_down_percentage.idxmax()"
   ]
  },
  {
   "cell_type": "code",
   "execution_count": null,
   "id": "a8abd6d8",
   "metadata": {},
   "outputs": [],
   "source": [
    "chpt.loc[(chpt.index<='2023-11-30')]"
   ]
  },
  {
   "cell_type": "markdown",
   "id": "17c16e7f",
   "metadata": {},
   "source": [
    "## SMA Strategy (CHPT)"
   ]
  },
  {
   "cell_type": "code",
   "execution_count": null,
   "id": "460934ef",
   "metadata": {},
   "outputs": [],
   "source": [
    "data = chpt.Close.loc[(chpt.index>='1991-01-01')]\n",
    "data = data.to_frame()"
   ]
  },
  {
   "cell_type": "code",
   "execution_count": null,
   "id": "0f4821e2",
   "metadata": {},
   "outputs": [],
   "source": [
    "# moving averages\n",
    "\n",
    "sma_s = 20\n",
    "sma_l = 100\n",
    "\n",
    "\n",
    "data['sma_s'] = data.Close.rolling(sma_s).mean()\n",
    "data['sma_l'] = data.Close.rolling(sma_l).mean()"
   ]
  },
  {
   "cell_type": "code",
   "execution_count": null,
   "id": "a434e21b",
   "metadata": {},
   "outputs": [],
   "source": [
    "data.plot(figsize=(12,8), title='CHPT - SMA {} | SMA {}'.format(sma_s, sma_l), fontsize=12);"
   ]
  },
  {
   "cell_type": "code",
   "execution_count": null,
   "id": "283e3e7d",
   "metadata": {},
   "outputs": [],
   "source": [
    "data.loc['2023'].plot(figsize=(12,8), title='CHPT - SMA {} | SMA {}'.format(sma_s, sma_l), fontsize=12);\n",
    "data.dropna(inplace=True)\n",
    "data"
   ]
  },
  {
   "cell_type": "code",
   "execution_count": null,
   "id": "b6b03265",
   "metadata": {},
   "outputs": [],
   "source": [
    "data['position'] = np.where(data['sma_s']>data['sma_l'], 1, -1)\n",
    "data"
   ]
  },
  {
   "cell_type": "code",
   "execution_count": null,
   "id": "d61f014b",
   "metadata": {},
   "outputs": [],
   "source": [
    "data.loc['2022':'2023',[\"sma_s\", \"sma_l\",'position']].plot(figsize=(12,8), title='CHPT - SMA {} | SMA {}'.format(sma_s, sma_l), fontsize=12,secondary_y='position');"
   ]
  },
  {
   "cell_type": "code",
   "execution_count": null,
   "id": "56cb020e",
   "metadata": {},
   "outputs": [],
   "source": [
    "data.loc['2022':'2023',[\"sma_s\", \"sma_l\",'position']].plot(figsize=(12,8), title='CHPT - SMA {} | SMA {}'.format(sma_s, sma_l), fontsize=12,secondary_y='position');"
   ]
  },
  {
   "cell_type": "code",
   "execution_count": null,
   "id": "f8708165",
   "metadata": {},
   "outputs": [],
   "source": [
    "# buy and hold column\n",
    "data['returns_bnh'] = np.log(data.Close.div(data.Close.shift(1)))"
   ]
  },
  {
   "cell_type": "code",
   "execution_count": null,
   "id": "fba44711",
   "metadata": {},
   "outputs": [],
   "source": [
    "# strategy column\n",
    "data['strategy'] = data['returns_bnh'] * data.position.shift(1)\n",
    "data.dropna(inplace=True)"
   ]
  },
  {
   "cell_type": "code",
   "execution_count": null,
   "id": "388a2fb5",
   "metadata": {},
   "outputs": [],
   "source": [
    "data[['returns_bnh','strategy']].sum()"
   ]
  },
  {
   "cell_type": "code",
   "execution_count": null,
   "id": "015901a3",
   "metadata": {},
   "outputs": [],
   "source": [
    "data[['returns_bnh','strategy']].sum().apply(np.exp)"
   ]
  },
  {
   "cell_type": "code",
   "execution_count": null,
   "id": "650ef8b4",
   "metadata": {},
   "outputs": [],
   "source": [
    "data[['returns_bnh','strategy']].std()*np.sqrt(252) # annual std"
   ]
  },
  {
   "cell_type": "markdown",
   "id": "4ceb5537",
   "metadata": {},
   "source": [
    "### Strategy 2"
   ]
  },
  {
   "cell_type": "code",
   "execution_count": null,
   "id": "46b1ccb6",
   "metadata": {},
   "outputs": [],
   "source": [
    "data['position2'] = np.where(data['sma_s']>data['sma_l'], 1, 0)\n",
    "data['strategy2'] = data['returns_bnh'] * data.position2.shift(1)\n",
    "data.dropna(inplace=True)"
   ]
  },
  {
   "cell_type": "code",
   "execution_count": null,
   "id": "74164e90",
   "metadata": {},
   "outputs": [],
   "source": [
    "data[['returns_bnh','strategy2']].sum()"
   ]
  },
  {
   "cell_type": "code",
   "execution_count": null,
   "id": "8dab2656",
   "metadata": {},
   "outputs": [],
   "source": [
    "data[['returns_bnh','strategy2']].sum().apply(np.exp)"
   ]
  },
  {
   "cell_type": "code",
   "execution_count": null,
   "id": "83687898",
   "metadata": {},
   "outputs": [],
   "source": [
    "data[['returns_bnh','strategy2']].std()*np.sqrt(252) # risk"
   ]
  },
  {
   "cell_type": "code",
   "execution_count": null,
   "id": "0fe45d7c",
   "metadata": {},
   "outputs": [],
   "source": [
    "data[['strategy','strategy2']].std()*np.sqrt(252) # risk"
   ]
  },
  {
   "cell_type": "code",
   "execution_count": null,
   "id": "9cd56ce3",
   "metadata": {},
   "outputs": [],
   "source": [
    "data.loc['2023',[\"sma_s\", \"sma_l\",'position']].plot(figsize=(12,8), title='SPY - SMA {} | SMA {}'.format(sma_s, sma_l), fontsize=12,secondary_y='position');"
   ]
  },
  {
   "cell_type": "code",
   "execution_count": null,
   "id": "d4b3ba83",
   "metadata": {},
   "outputs": [],
   "source": []
  }
 ],
 "metadata": {
  "kernelspec": {
   "display_name": "Python (dojo-env)",
   "language": "python",
   "name": "dojo-env"
  },
  "language_info": {
   "codemirror_mode": {
    "name": "ipython",
    "version": 3
   },
   "file_extension": ".py",
   "mimetype": "text/x-python",
   "name": "python",
   "nbconvert_exporter": "python",
   "pygments_lexer": "ipython3",
   "version": "3.9.15"
  },
  "toc": {
   "base_numbering": 1,
   "nav_menu": {},
   "number_sections": false,
   "sideBar": true,
   "skip_h1_title": false,
   "title_cell": "Table of Contents",
   "title_sidebar": "Contents",
   "toc_cell": false,
   "toc_position": {},
   "toc_section_display": true,
   "toc_window_display": false
  }
 },
 "nbformat": 4,
 "nbformat_minor": 5
}
