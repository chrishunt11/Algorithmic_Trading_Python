{
 "cells": [
  {
   "cell_type": "markdown",
   "id": "cf5f5c25",
   "metadata": {},
   "source": [
    "# Stock Predictions"
   ]
  },
  {
   "cell_type": "markdown",
   "id": "e4618018",
   "metadata": {
    "heading_collapsed": true
   },
   "source": [
    "## Imports"
   ]
  },
  {
   "cell_type": "code",
   "execution_count": 1,
   "id": "d503d186",
   "metadata": {
    "hidden": true
   },
   "outputs": [],
   "source": [
    "import yfinance as yf\n",
    "import pandas as pd\n",
    "import numpy as np\n",
    "import matplotlib.pyplot as plt\n",
    "\n",
    "## Preprocessing tools\n",
    "from sklearn.model_selection import train_test_split\n",
    "from sklearn.compose import make_column_transformer, make_column_selector\n",
    "from sklearn.pipeline import make_pipeline\n",
    "from sklearn.preprocessing import OneHotEncoder, StandardScaler\n",
    "from sklearn.impute import SimpleImputer\n",
    "## Models & evaluation metrics\n",
    "from sklearn import metrics\n",
    "from sklearn.linear_model import LinearRegression\n",
    "from sklearn.tree import DecisionTreeRegressor\n",
    "from sklearn.ensemble import RandomForestRegressor\n",
    "import joblib\n",
    "## setting random state for reproducibility\n",
    "SEED = 321\n",
    "np.random.seed(SEED)\n",
    "## set pandas to display more columns\n",
    "pd.set_option('display.max_columns',100)"
   ]
  },
  {
   "cell_type": "code",
   "execution_count": 2,
   "id": "6681b678",
   "metadata": {
    "hidden": true
   },
   "outputs": [
    {
     "name": "stdout",
     "output_type": "stream",
     "text": [
      "[*********************100%***********************]  1 of 1 completed\n"
     ]
    }
   ],
   "source": [
    "spy = yf.download('SPY')"
   ]
  },
  {
   "cell_type": "code",
   "execution_count": 3,
   "id": "f634e04d",
   "metadata": {
    "hidden": true
   },
   "outputs": [],
   "source": [
    "spy.to_csv('spy.csv')"
   ]
  },
  {
   "cell_type": "code",
   "execution_count": 4,
   "id": "06f6d3da",
   "metadata": {
    "hidden": true
   },
   "outputs": [],
   "source": [
    "df = pd.read_csv('spy.csv')"
   ]
  },
  {
   "cell_type": "code",
   "execution_count": 5,
   "id": "05827023",
   "metadata": {
    "hidden": true,
    "scrolled": true
   },
   "outputs": [
    {
     "data": {
      "text/html": [
       "<div>\n",
       "<style scoped>\n",
       "    .dataframe tbody tr th:only-of-type {\n",
       "        vertical-align: middle;\n",
       "    }\n",
       "\n",
       "    .dataframe tbody tr th {\n",
       "        vertical-align: top;\n",
       "    }\n",
       "\n",
       "    .dataframe thead th {\n",
       "        text-align: right;\n",
       "    }\n",
       "</style>\n",
       "<table border=\"1\" class=\"dataframe\">\n",
       "  <thead>\n",
       "    <tr style=\"text-align: right;\">\n",
       "      <th></th>\n",
       "      <th>Open</th>\n",
       "      <th>High</th>\n",
       "      <th>Low</th>\n",
       "      <th>Close</th>\n",
       "      <th>Adj Close</th>\n",
       "      <th>Volume</th>\n",
       "    </tr>\n",
       "    <tr>\n",
       "      <th>Date</th>\n",
       "      <th></th>\n",
       "      <th></th>\n",
       "      <th></th>\n",
       "      <th></th>\n",
       "      <th></th>\n",
       "      <th></th>\n",
       "    </tr>\n",
       "  </thead>\n",
       "  <tbody>\n",
       "    <tr>\n",
       "      <th>1993-01-29</th>\n",
       "      <td>43.968750</td>\n",
       "      <td>43.968750</td>\n",
       "      <td>43.750000</td>\n",
       "      <td>43.937500</td>\n",
       "      <td>24.684095</td>\n",
       "      <td>1003200</td>\n",
       "    </tr>\n",
       "    <tr>\n",
       "      <th>1993-02-01</th>\n",
       "      <td>43.968750</td>\n",
       "      <td>44.250000</td>\n",
       "      <td>43.968750</td>\n",
       "      <td>44.250000</td>\n",
       "      <td>24.859674</td>\n",
       "      <td>480500</td>\n",
       "    </tr>\n",
       "    <tr>\n",
       "      <th>1993-02-02</th>\n",
       "      <td>44.218750</td>\n",
       "      <td>44.375000</td>\n",
       "      <td>44.125000</td>\n",
       "      <td>44.343750</td>\n",
       "      <td>24.912346</td>\n",
       "      <td>201300</td>\n",
       "    </tr>\n",
       "    <tr>\n",
       "      <th>1993-02-03</th>\n",
       "      <td>44.406250</td>\n",
       "      <td>44.843750</td>\n",
       "      <td>44.375000</td>\n",
       "      <td>44.812500</td>\n",
       "      <td>25.175671</td>\n",
       "      <td>529400</td>\n",
       "    </tr>\n",
       "    <tr>\n",
       "      <th>1993-02-04</th>\n",
       "      <td>44.968750</td>\n",
       "      <td>45.093750</td>\n",
       "      <td>44.468750</td>\n",
       "      <td>45.000000</td>\n",
       "      <td>25.280996</td>\n",
       "      <td>531500</td>\n",
       "    </tr>\n",
       "    <tr>\n",
       "      <th>...</th>\n",
       "      <td>...</td>\n",
       "      <td>...</td>\n",
       "      <td>...</td>\n",
       "      <td>...</td>\n",
       "      <td>...</td>\n",
       "      <td>...</td>\n",
       "    </tr>\n",
       "    <tr>\n",
       "      <th>2024-08-12</th>\n",
       "      <td>534.210022</td>\n",
       "      <td>535.729980</td>\n",
       "      <td>530.950012</td>\n",
       "      <td>533.270020</td>\n",
       "      <td>533.270020</td>\n",
       "      <td>42542100</td>\n",
       "    </tr>\n",
       "    <tr>\n",
       "      <th>2024-08-13</th>\n",
       "      <td>536.530029</td>\n",
       "      <td>542.280029</td>\n",
       "      <td>536.280029</td>\n",
       "      <td>542.039978</td>\n",
       "      <td>542.039978</td>\n",
       "      <td>52333100</td>\n",
       "    </tr>\n",
       "    <tr>\n",
       "      <th>2024-08-14</th>\n",
       "      <td>542.849976</td>\n",
       "      <td>544.960022</td>\n",
       "      <td>540.119995</td>\n",
       "      <td>543.750000</td>\n",
       "      <td>543.750000</td>\n",
       "      <td>42446900</td>\n",
       "    </tr>\n",
       "    <tr>\n",
       "      <th>2024-08-15</th>\n",
       "      <td>549.500000</td>\n",
       "      <td>553.359985</td>\n",
       "      <td>548.880005</td>\n",
       "      <td>553.070007</td>\n",
       "      <td>553.070007</td>\n",
       "      <td>60846800</td>\n",
       "    </tr>\n",
       "    <tr>\n",
       "      <th>2024-08-16</th>\n",
       "      <td>551.419983</td>\n",
       "      <td>555.020020</td>\n",
       "      <td>551.260010</td>\n",
       "      <td>554.309998</td>\n",
       "      <td>554.309998</td>\n",
       "      <td>44316100</td>\n",
       "    </tr>\n",
       "  </tbody>\n",
       "</table>\n",
       "<p>7944 rows × 6 columns</p>\n",
       "</div>"
      ],
      "text/plain": [
       "                  Open        High         Low       Close   Adj Close  \\\n",
       "Date                                                                     \n",
       "1993-01-29   43.968750   43.968750   43.750000   43.937500   24.684095   \n",
       "1993-02-01   43.968750   44.250000   43.968750   44.250000   24.859674   \n",
       "1993-02-02   44.218750   44.375000   44.125000   44.343750   24.912346   \n",
       "1993-02-03   44.406250   44.843750   44.375000   44.812500   25.175671   \n",
       "1993-02-04   44.968750   45.093750   44.468750   45.000000   25.280996   \n",
       "...                ...         ...         ...         ...         ...   \n",
       "2024-08-12  534.210022  535.729980  530.950012  533.270020  533.270020   \n",
       "2024-08-13  536.530029  542.280029  536.280029  542.039978  542.039978   \n",
       "2024-08-14  542.849976  544.960022  540.119995  543.750000  543.750000   \n",
       "2024-08-15  549.500000  553.359985  548.880005  553.070007  553.070007   \n",
       "2024-08-16  551.419983  555.020020  551.260010  554.309998  554.309998   \n",
       "\n",
       "              Volume  \n",
       "Date                  \n",
       "1993-01-29   1003200  \n",
       "1993-02-01    480500  \n",
       "1993-02-02    201300  \n",
       "1993-02-03    529400  \n",
       "1993-02-04    531500  \n",
       "...              ...  \n",
       "2024-08-12  42542100  \n",
       "2024-08-13  52333100  \n",
       "2024-08-14  42446900  \n",
       "2024-08-15  60846800  \n",
       "2024-08-16  44316100  \n",
       "\n",
       "[7944 rows x 6 columns]"
      ]
     },
     "execution_count": 5,
     "metadata": {},
     "output_type": "execute_result"
    }
   ],
   "source": [
    "df.Date = pd.to_datetime(df.Date)\n",
    "df.set_index('Date')"
   ]
  },
  {
   "cell_type": "code",
   "execution_count": 6,
   "id": "a0ec9b2d",
   "metadata": {
    "hidden": true
   },
   "outputs": [
    {
     "name": "stdout",
     "output_type": "stream",
     "text": [
      "<class 'pandas.core.frame.DataFrame'>\n",
      "RangeIndex: 7944 entries, 0 to 7943\n",
      "Data columns (total 7 columns):\n",
      " #   Column     Non-Null Count  Dtype         \n",
      "---  ------     --------------  -----         \n",
      " 0   Date       7944 non-null   datetime64[ns]\n",
      " 1   Open       7944 non-null   float64       \n",
      " 2   High       7944 non-null   float64       \n",
      " 3   Low        7944 non-null   float64       \n",
      " 4   Close      7944 non-null   float64       \n",
      " 5   Adj Close  7944 non-null   float64       \n",
      " 6   Volume     7944 non-null   int64         \n",
      "dtypes: datetime64[ns](1), float64(5), int64(1)\n",
      "memory usage: 434.6 KB\n"
     ]
    }
   ],
   "source": [
    "df.info()"
   ]
  },
  {
   "cell_type": "code",
   "execution_count": 7,
   "id": "3f2fc34a",
   "metadata": {
    "hidden": true,
    "scrolled": true
   },
   "outputs": [
    {
     "data": {
      "text/html": [
       "<div>\n",
       "<style scoped>\n",
       "    .dataframe tbody tr th:only-of-type {\n",
       "        vertical-align: middle;\n",
       "    }\n",
       "\n",
       "    .dataframe tbody tr th {\n",
       "        vertical-align: top;\n",
       "    }\n",
       "\n",
       "    .dataframe thead th {\n",
       "        text-align: right;\n",
       "    }\n",
       "</style>\n",
       "<table border=\"1\" class=\"dataframe\">\n",
       "  <thead>\n",
       "    <tr style=\"text-align: right;\">\n",
       "      <th></th>\n",
       "      <th>Open</th>\n",
       "      <th>High</th>\n",
       "      <th>Low</th>\n",
       "      <th>Close</th>\n",
       "      <th>Adj Close</th>\n",
       "      <th>Volume</th>\n",
       "    </tr>\n",
       "  </thead>\n",
       "  <tbody>\n",
       "    <tr>\n",
       "      <th>count</th>\n",
       "      <td>7944.000000</td>\n",
       "      <td>7944.000000</td>\n",
       "      <td>7944.000000</td>\n",
       "      <td>7944.000000</td>\n",
       "      <td>7944.000000</td>\n",
       "      <td>7.944000e+03</td>\n",
       "    </tr>\n",
       "    <tr>\n",
       "      <th>mean</th>\n",
       "      <td>177.368122</td>\n",
       "      <td>178.416309</td>\n",
       "      <td>176.219149</td>\n",
       "      <td>177.379655</td>\n",
       "      <td>148.634148</td>\n",
       "      <td>8.406293e+07</td>\n",
       "    </tr>\n",
       "    <tr>\n",
       "      <th>std</th>\n",
       "      <td>116.258464</td>\n",
       "      <td>116.849111</td>\n",
       "      <td>115.637387</td>\n",
       "      <td>116.290566</td>\n",
       "      <td>122.460755</td>\n",
       "      <td>9.150542e+07</td>\n",
       "    </tr>\n",
       "    <tr>\n",
       "      <th>min</th>\n",
       "      <td>43.343750</td>\n",
       "      <td>43.531250</td>\n",
       "      <td>42.812500</td>\n",
       "      <td>43.406250</td>\n",
       "      <td>24.385647</td>\n",
       "      <td>5.200000e+03</td>\n",
       "    </tr>\n",
       "    <tr>\n",
       "      <th>25%</th>\n",
       "      <td>106.348125</td>\n",
       "      <td>107.230000</td>\n",
       "      <td>105.487499</td>\n",
       "      <td>106.352501</td>\n",
       "      <td>70.740221</td>\n",
       "      <td>1.055505e+07</td>\n",
       "    </tr>\n",
       "    <tr>\n",
       "      <th>50%</th>\n",
       "      <td>133.125000</td>\n",
       "      <td>133.875000</td>\n",
       "      <td>132.135002</td>\n",
       "      <td>133.156250</td>\n",
       "      <td>93.956409</td>\n",
       "      <td>6.301720e+07</td>\n",
       "    </tr>\n",
       "    <tr>\n",
       "      <th>75%</th>\n",
       "      <td>216.422504</td>\n",
       "      <td>217.102505</td>\n",
       "      <td>215.682499</td>\n",
       "      <td>216.445000</td>\n",
       "      <td>189.197796</td>\n",
       "      <td>1.141326e+08</td>\n",
       "    </tr>\n",
       "    <tr>\n",
       "      <th>max</th>\n",
       "      <td>562.869995</td>\n",
       "      <td>565.159973</td>\n",
       "      <td>562.099976</td>\n",
       "      <td>564.859985</td>\n",
       "      <td>564.859985</td>\n",
       "      <td>8.710263e+08</td>\n",
       "    </tr>\n",
       "  </tbody>\n",
       "</table>\n",
       "</div>"
      ],
      "text/plain": [
       "              Open         High          Low        Close    Adj Close  \\\n",
       "count  7944.000000  7944.000000  7944.000000  7944.000000  7944.000000   \n",
       "mean    177.368122   178.416309   176.219149   177.379655   148.634148   \n",
       "std     116.258464   116.849111   115.637387   116.290566   122.460755   \n",
       "min      43.343750    43.531250    42.812500    43.406250    24.385647   \n",
       "25%     106.348125   107.230000   105.487499   106.352501    70.740221   \n",
       "50%     133.125000   133.875000   132.135002   133.156250    93.956409   \n",
       "75%     216.422504   217.102505   215.682499   216.445000   189.197796   \n",
       "max     562.869995   565.159973   562.099976   564.859985   564.859985   \n",
       "\n",
       "             Volume  \n",
       "count  7.944000e+03  \n",
       "mean   8.406293e+07  \n",
       "std    9.150542e+07  \n",
       "min    5.200000e+03  \n",
       "25%    1.055505e+07  \n",
       "50%    6.301720e+07  \n",
       "75%    1.141326e+08  \n",
       "max    8.710263e+08  "
      ]
     },
     "execution_count": 7,
     "metadata": {},
     "output_type": "execute_result"
    }
   ],
   "source": [
    "df.describe()"
   ]
  },
  {
   "cell_type": "markdown",
   "id": "dee6e644",
   "metadata": {},
   "source": [
    "## Cumulative Returns, Draw downs, etc."
   ]
  },
  {
   "cell_type": "code",
   "execution_count": 8,
   "id": "69101bd2",
   "metadata": {
    "scrolled": true
   },
   "outputs": [
    {
     "name": "stdout",
     "output_type": "stream",
     "text": [
      "[*********************100%***********************]  1 of 1 completed\n"
     ]
    }
   ],
   "source": [
    "spy = yf.download('SPY')"
   ]
  },
  {
   "cell_type": "code",
   "execution_count": 9,
   "id": "def92030",
   "metadata": {},
   "outputs": [],
   "source": [
    "spy = spy.Close.to_frame()"
   ]
  },
  {
   "cell_type": "code",
   "execution_count": 10,
   "id": "724492d4",
   "metadata": {},
   "outputs": [],
   "source": [
    "spy['d_returns'] = np.log(spy.div(spy.shift(1)))"
   ]
  },
  {
   "cell_type": "code",
   "execution_count": 11,
   "id": "514ec264",
   "metadata": {
    "scrolled": true
   },
   "outputs": [
    {
     "data": {
      "text/html": [
       "<div>\n",
       "<style scoped>\n",
       "    .dataframe tbody tr th:only-of-type {\n",
       "        vertical-align: middle;\n",
       "    }\n",
       "\n",
       "    .dataframe tbody tr th {\n",
       "        vertical-align: top;\n",
       "    }\n",
       "\n",
       "    .dataframe thead th {\n",
       "        text-align: right;\n",
       "    }\n",
       "</style>\n",
       "<table border=\"1\" class=\"dataframe\">\n",
       "  <thead>\n",
       "    <tr style=\"text-align: right;\">\n",
       "      <th></th>\n",
       "      <th>Close</th>\n",
       "      <th>d_returns</th>\n",
       "    </tr>\n",
       "    <tr>\n",
       "      <th>Date</th>\n",
       "      <th></th>\n",
       "      <th></th>\n",
       "    </tr>\n",
       "  </thead>\n",
       "  <tbody>\n",
       "    <tr>\n",
       "      <th>1993-02-01</th>\n",
       "      <td>44.250000</td>\n",
       "      <td>0.007087</td>\n",
       "    </tr>\n",
       "    <tr>\n",
       "      <th>1993-02-02</th>\n",
       "      <td>44.343750</td>\n",
       "      <td>0.002116</td>\n",
       "    </tr>\n",
       "    <tr>\n",
       "      <th>1993-02-03</th>\n",
       "      <td>44.812500</td>\n",
       "      <td>0.010515</td>\n",
       "    </tr>\n",
       "    <tr>\n",
       "      <th>1993-02-04</th>\n",
       "      <td>45.000000</td>\n",
       "      <td>0.004175</td>\n",
       "    </tr>\n",
       "    <tr>\n",
       "      <th>1993-02-05</th>\n",
       "      <td>44.968750</td>\n",
       "      <td>-0.000695</td>\n",
       "    </tr>\n",
       "    <tr>\n",
       "      <th>...</th>\n",
       "      <td>...</td>\n",
       "      <td>...</td>\n",
       "    </tr>\n",
       "    <tr>\n",
       "      <th>2024-08-12</th>\n",
       "      <td>533.270020</td>\n",
       "      <td>0.000525</td>\n",
       "    </tr>\n",
       "    <tr>\n",
       "      <th>2024-08-13</th>\n",
       "      <td>542.039978</td>\n",
       "      <td>0.016312</td>\n",
       "    </tr>\n",
       "    <tr>\n",
       "      <th>2024-08-14</th>\n",
       "      <td>543.750000</td>\n",
       "      <td>0.003150</td>\n",
       "    </tr>\n",
       "    <tr>\n",
       "      <th>2024-08-15</th>\n",
       "      <td>553.070007</td>\n",
       "      <td>0.016995</td>\n",
       "    </tr>\n",
       "    <tr>\n",
       "      <th>2024-08-16</th>\n",
       "      <td>554.309998</td>\n",
       "      <td>0.002240</td>\n",
       "    </tr>\n",
       "  </tbody>\n",
       "</table>\n",
       "<p>7943 rows × 2 columns</p>\n",
       "</div>"
      ],
      "text/plain": [
       "                 Close  d_returns\n",
       "Date                             \n",
       "1993-02-01   44.250000   0.007087\n",
       "1993-02-02   44.343750   0.002116\n",
       "1993-02-03   44.812500   0.010515\n",
       "1993-02-04   45.000000   0.004175\n",
       "1993-02-05   44.968750  -0.000695\n",
       "...                ...        ...\n",
       "2024-08-12  533.270020   0.000525\n",
       "2024-08-13  542.039978   0.016312\n",
       "2024-08-14  543.750000   0.003150\n",
       "2024-08-15  553.070007   0.016995\n",
       "2024-08-16  554.309998   0.002240\n",
       "\n",
       "[7943 rows x 2 columns]"
      ]
     },
     "execution_count": 11,
     "metadata": {},
     "output_type": "execute_result"
    }
   ],
   "source": [
    "spy.dropna(inplace=True)\n",
    "spy"
   ]
  },
  {
   "cell_type": "code",
   "execution_count": 12,
   "id": "a882aef6",
   "metadata": {},
   "outputs": [
    {
     "data": {
      "text/plain": [
       "2.53495592305988"
      ]
     },
     "execution_count": 12,
     "metadata": {},
     "output_type": "execute_result"
    }
   ],
   "source": [
    "spy.d_returns.sum()"
   ]
  },
  {
   "cell_type": "code",
   "execution_count": 13,
   "id": "faf4df66",
   "metadata": {},
   "outputs": [
    {
     "data": {
      "text/plain": [
       "12.615874766625158"
      ]
     },
     "execution_count": 13,
     "metadata": {},
     "output_type": "execute_result"
    }
   ],
   "source": [
    "np.exp(spy.d_returns.sum())"
   ]
  },
  {
   "cell_type": "code",
   "execution_count": 14,
   "id": "30b61642",
   "metadata": {
    "scrolled": true
   },
   "outputs": [
    {
     "data": {
      "text/html": [
       "<div>\n",
       "<style scoped>\n",
       "    .dataframe tbody tr th:only-of-type {\n",
       "        vertical-align: middle;\n",
       "    }\n",
       "\n",
       "    .dataframe tbody tr th {\n",
       "        vertical-align: top;\n",
       "    }\n",
       "\n",
       "    .dataframe thead th {\n",
       "        text-align: right;\n",
       "    }\n",
       "</style>\n",
       "<table border=\"1\" class=\"dataframe\">\n",
       "  <thead>\n",
       "    <tr style=\"text-align: right;\">\n",
       "      <th></th>\n",
       "      <th>Close</th>\n",
       "      <th>d_returns</th>\n",
       "      <th>cumm_returns</th>\n",
       "    </tr>\n",
       "    <tr>\n",
       "      <th>Date</th>\n",
       "      <th></th>\n",
       "      <th></th>\n",
       "      <th></th>\n",
       "    </tr>\n",
       "  </thead>\n",
       "  <tbody>\n",
       "    <tr>\n",
       "      <th>1993-02-01</th>\n",
       "      <td>44.250000</td>\n",
       "      <td>0.007087</td>\n",
       "      <td>1.007112</td>\n",
       "    </tr>\n",
       "    <tr>\n",
       "      <th>1993-02-02</th>\n",
       "      <td>44.343750</td>\n",
       "      <td>0.002116</td>\n",
       "      <td>1.009246</td>\n",
       "    </tr>\n",
       "    <tr>\n",
       "      <th>1993-02-03</th>\n",
       "      <td>44.812500</td>\n",
       "      <td>0.010515</td>\n",
       "      <td>1.019915</td>\n",
       "    </tr>\n",
       "    <tr>\n",
       "      <th>1993-02-04</th>\n",
       "      <td>45.000000</td>\n",
       "      <td>0.004175</td>\n",
       "      <td>1.024182</td>\n",
       "    </tr>\n",
       "    <tr>\n",
       "      <th>1993-02-05</th>\n",
       "      <td>44.968750</td>\n",
       "      <td>-0.000695</td>\n",
       "      <td>1.023471</td>\n",
       "    </tr>\n",
       "    <tr>\n",
       "      <th>...</th>\n",
       "      <td>...</td>\n",
       "      <td>...</td>\n",
       "      <td>...</td>\n",
       "    </tr>\n",
       "    <tr>\n",
       "      <th>2024-08-12</th>\n",
       "      <td>533.270020</td>\n",
       "      <td>0.000525</td>\n",
       "      <td>12.137013</td>\n",
       "    </tr>\n",
       "    <tr>\n",
       "      <th>2024-08-13</th>\n",
       "      <td>542.039978</td>\n",
       "      <td>0.016312</td>\n",
       "      <td>12.336614</td>\n",
       "    </tr>\n",
       "    <tr>\n",
       "      <th>2024-08-14</th>\n",
       "      <td>543.750000</td>\n",
       "      <td>0.003150</td>\n",
       "      <td>12.375533</td>\n",
       "    </tr>\n",
       "    <tr>\n",
       "      <th>2024-08-15</th>\n",
       "      <td>553.070007</td>\n",
       "      <td>0.016995</td>\n",
       "      <td>12.587653</td>\n",
       "    </tr>\n",
       "    <tr>\n",
       "      <th>2024-08-16</th>\n",
       "      <td>554.309998</td>\n",
       "      <td>0.002240</td>\n",
       "      <td>12.615875</td>\n",
       "    </tr>\n",
       "  </tbody>\n",
       "</table>\n",
       "<p>7943 rows × 3 columns</p>\n",
       "</div>"
      ],
      "text/plain": [
       "                 Close  d_returns  cumm_returns\n",
       "Date                                           \n",
       "1993-02-01   44.250000   0.007087      1.007112\n",
       "1993-02-02   44.343750   0.002116      1.009246\n",
       "1993-02-03   44.812500   0.010515      1.019915\n",
       "1993-02-04   45.000000   0.004175      1.024182\n",
       "1993-02-05   44.968750  -0.000695      1.023471\n",
       "...                ...        ...           ...\n",
       "2024-08-12  533.270020   0.000525     12.137013\n",
       "2024-08-13  542.039978   0.016312     12.336614\n",
       "2024-08-14  543.750000   0.003150     12.375533\n",
       "2024-08-15  553.070007   0.016995     12.587653\n",
       "2024-08-16  554.309998   0.002240     12.615875\n",
       "\n",
       "[7943 rows x 3 columns]"
      ]
     },
     "execution_count": 14,
     "metadata": {},
     "output_type": "execute_result"
    }
   ],
   "source": [
    "spy['cumm_returns'] = spy.d_returns.cumsum().apply(np.exp)\n",
    "spy"
   ]
  },
  {
   "cell_type": "code",
   "execution_count": 15,
   "id": "e124ef76",
   "metadata": {
    "scrolled": true
   },
   "outputs": [
    {
     "data": {
      "image/png": "[encoded data removed]",
      "text/plain": [
       "<Figure size 1200x800 with 1 Axes>"
      ]
     },
     "metadata": {},
     "output_type": "display_data"
    }
   ],
   "source": [
    "spy.cumm_returns.plot(figsize=(12,8), title='Spy Buy and Hold', fontsize=12)\n",
    "plt.show()"
   ]
  },
  {
   "cell_type": "code",
   "execution_count": 16,
   "id": "0e174ade",
   "metadata": {},
   "outputs": [
    {
     "data": {
      "text/plain": [
       "0.0804241335277716"
      ]
     },
     "execution_count": 16,
     "metadata": {},
     "output_type": "execute_result"
    }
   ],
   "source": [
    "spy.d_returns.mean()*252"
   ]
  },
  {
   "cell_type": "code",
   "execution_count": 17,
   "id": "8b4ea53c",
   "metadata": {},
   "outputs": [
    {
     "data": {
      "text/plain": [
       "0.18722304695201744"
      ]
     },
     "execution_count": 17,
     "metadata": {},
     "output_type": "execute_result"
    }
   ],
   "source": [
    "spy.d_returns.std()*np.sqrt(252)"
   ]
  },
  {
   "cell_type": "code",
   "execution_count": 18,
   "id": "8ef01654",
   "metadata": {},
   "outputs": [],
   "source": [
    "# Calculating draw downs (finding the peaks and valleys)\n",
    "spy['cumm_max'] = spy.cumm_returns.cummax()"
   ]
  },
  {
   "cell_type": "code",
   "execution_count": 19,
   "id": "20eb3f6d",
   "metadata": {
    "scrolled": true
   },
   "outputs": [
    {
     "data": {
      "text/html": [
       "<div>\n",
       "<style scoped>\n",
       "    .dataframe tbody tr th:only-of-type {\n",
       "        vertical-align: middle;\n",
       "    }\n",
       "\n",
       "    .dataframe tbody tr th {\n",
       "        vertical-align: top;\n",
       "    }\n",
       "\n",
       "    .dataframe thead th {\n",
       "        text-align: right;\n",
       "    }\n",
       "</style>\n",
       "<table border=\"1\" class=\"dataframe\">\n",
       "  <thead>\n",
       "    <tr style=\"text-align: right;\">\n",
       "      <th></th>\n",
       "      <th>Close</th>\n",
       "      <th>d_returns</th>\n",
       "      <th>cumm_returns</th>\n",
       "      <th>cumm_max</th>\n",
       "    </tr>\n",
       "    <tr>\n",
       "      <th>Date</th>\n",
       "      <th></th>\n",
       "      <th></th>\n",
       "      <th></th>\n",
       "      <th></th>\n",
       "    </tr>\n",
       "  </thead>\n",
       "  <tbody>\n",
       "    <tr>\n",
       "      <th>1993-02-01</th>\n",
       "      <td>44.250000</td>\n",
       "      <td>0.007087</td>\n",
       "      <td>1.007112</td>\n",
       "      <td>1.007112</td>\n",
       "    </tr>\n",
       "    <tr>\n",
       "      <th>1993-02-02</th>\n",
       "      <td>44.343750</td>\n",
       "      <td>0.002116</td>\n",
       "      <td>1.009246</td>\n",
       "      <td>1.009246</td>\n",
       "    </tr>\n",
       "    <tr>\n",
       "      <th>1993-02-03</th>\n",
       "      <td>44.812500</td>\n",
       "      <td>0.010515</td>\n",
       "      <td>1.019915</td>\n",
       "      <td>1.019915</td>\n",
       "    </tr>\n",
       "    <tr>\n",
       "      <th>1993-02-04</th>\n",
       "      <td>45.000000</td>\n",
       "      <td>0.004175</td>\n",
       "      <td>1.024182</td>\n",
       "      <td>1.024182</td>\n",
       "    </tr>\n",
       "    <tr>\n",
       "      <th>1993-02-05</th>\n",
       "      <td>44.968750</td>\n",
       "      <td>-0.000695</td>\n",
       "      <td>1.023471</td>\n",
       "      <td>1.024182</td>\n",
       "    </tr>\n",
       "    <tr>\n",
       "      <th>...</th>\n",
       "      <td>...</td>\n",
       "      <td>...</td>\n",
       "      <td>...</td>\n",
       "      <td>...</td>\n",
       "    </tr>\n",
       "    <tr>\n",
       "      <th>2024-08-12</th>\n",
       "      <td>533.270020</td>\n",
       "      <td>0.000525</td>\n",
       "      <td>12.137013</td>\n",
       "      <td>12.855988</td>\n",
       "    </tr>\n",
       "    <tr>\n",
       "      <th>2024-08-13</th>\n",
       "      <td>542.039978</td>\n",
       "      <td>0.016312</td>\n",
       "      <td>12.336614</td>\n",
       "      <td>12.855988</td>\n",
       "    </tr>\n",
       "    <tr>\n",
       "      <th>2024-08-14</th>\n",
       "      <td>543.750000</td>\n",
       "      <td>0.003150</td>\n",
       "      <td>12.375533</td>\n",
       "      <td>12.855988</td>\n",
       "    </tr>\n",
       "    <tr>\n",
       "      <th>2024-08-15</th>\n",
       "      <td>553.070007</td>\n",
       "      <td>0.016995</td>\n",
       "      <td>12.587653</td>\n",
       "      <td>12.855988</td>\n",
       "    </tr>\n",
       "    <tr>\n",
       "      <th>2024-08-16</th>\n",
       "      <td>554.309998</td>\n",
       "      <td>0.002240</td>\n",
       "      <td>12.615875</td>\n",
       "      <td>12.855988</td>\n",
       "    </tr>\n",
       "  </tbody>\n",
       "</table>\n",
       "<p>7943 rows × 4 columns</p>\n",
       "</div>"
      ],
      "text/plain": [
       "                 Close  d_returns  cumm_returns   cumm_max\n",
       "Date                                                      \n",
       "1993-02-01   44.250000   0.007087      1.007112   1.007112\n",
       "1993-02-02   44.343750   0.002116      1.009246   1.009246\n",
       "1993-02-03   44.812500   0.010515      1.019915   1.019915\n",
       "1993-02-04   45.000000   0.004175      1.024182   1.024182\n",
       "1993-02-05   44.968750  -0.000695      1.023471   1.024182\n",
       "...                ...        ...           ...        ...\n",
       "2024-08-12  533.270020   0.000525     12.137013  12.855988\n",
       "2024-08-13  542.039978   0.016312     12.336614  12.855988\n",
       "2024-08-14  543.750000   0.003150     12.375533  12.855988\n",
       "2024-08-15  553.070007   0.016995     12.587653  12.855988\n",
       "2024-08-16  554.309998   0.002240     12.615875  12.855988\n",
       "\n",
       "[7943 rows x 4 columns]"
      ]
     },
     "execution_count": 19,
     "metadata": {},
     "output_type": "execute_result"
    }
   ],
   "source": [
    "spy"
   ]
  },
  {
   "cell_type": "code",
   "execution_count": 20,
   "id": "4267b5cd",
   "metadata": {
    "scrolled": true
   },
   "outputs": [
    {
     "data": {
      "image/png": "[encoded data removed]",
      "text/plain": [
       "<Figure size 1500x800 with 1 Axes>"
      ]
     },
     "metadata": {},
     "output_type": "display_data"
    }
   ],
   "source": [
    "spy[[\"cumm_returns\",\"cumm_max\"]].plot(figsize=(15,8), title='Spy Cumulative Max', fontsize=12)\n",
    "plt.show()"
   ]
  },
  {
   "cell_type": "code",
   "execution_count": 21,
   "id": "2b3c710c",
   "metadata": {
    "scrolled": true
   },
   "outputs": [
    {
     "data": {
      "text/html": [
       "<div>\n",
       "<style scoped>\n",
       "    .dataframe tbody tr th:only-of-type {\n",
       "        vertical-align: middle;\n",
       "    }\n",
       "\n",
       "    .dataframe tbody tr th {\n",
       "        vertical-align: top;\n",
       "    }\n",
       "\n",
       "    .dataframe thead th {\n",
       "        text-align: right;\n",
       "    }\n",
       "</style>\n",
       "<table border=\"1\" class=\"dataframe\">\n",
       "  <thead>\n",
       "    <tr style=\"text-align: right;\">\n",
       "      <th></th>\n",
       "      <th>Close</th>\n",
       "      <th>d_returns</th>\n",
       "      <th>cumm_returns</th>\n",
       "      <th>cumm_max</th>\n",
       "      <th>draw_down</th>\n",
       "    </tr>\n",
       "    <tr>\n",
       "      <th>Date</th>\n",
       "      <th></th>\n",
       "      <th></th>\n",
       "      <th></th>\n",
       "      <th></th>\n",
       "      <th></th>\n",
       "    </tr>\n",
       "  </thead>\n",
       "  <tbody>\n",
       "    <tr>\n",
       "      <th>1993-02-01</th>\n",
       "      <td>44.250000</td>\n",
       "      <td>0.007087</td>\n",
       "      <td>1.007112</td>\n",
       "      <td>1.007112</td>\n",
       "      <td>0.000000</td>\n",
       "    </tr>\n",
       "    <tr>\n",
       "      <th>1993-02-02</th>\n",
       "      <td>44.343750</td>\n",
       "      <td>0.002116</td>\n",
       "      <td>1.009246</td>\n",
       "      <td>1.009246</td>\n",
       "      <td>0.000000</td>\n",
       "    </tr>\n",
       "    <tr>\n",
       "      <th>1993-02-03</th>\n",
       "      <td>44.812500</td>\n",
       "      <td>0.010515</td>\n",
       "      <td>1.019915</td>\n",
       "      <td>1.019915</td>\n",
       "      <td>0.000000</td>\n",
       "    </tr>\n",
       "    <tr>\n",
       "      <th>1993-02-04</th>\n",
       "      <td>45.000000</td>\n",
       "      <td>0.004175</td>\n",
       "      <td>1.024182</td>\n",
       "      <td>1.024182</td>\n",
       "      <td>0.000000</td>\n",
       "    </tr>\n",
       "    <tr>\n",
       "      <th>1993-02-05</th>\n",
       "      <td>44.968750</td>\n",
       "      <td>-0.000695</td>\n",
       "      <td>1.023471</td>\n",
       "      <td>1.024182</td>\n",
       "      <td>0.000711</td>\n",
       "    </tr>\n",
       "    <tr>\n",
       "      <th>...</th>\n",
       "      <td>...</td>\n",
       "      <td>...</td>\n",
       "      <td>...</td>\n",
       "      <td>...</td>\n",
       "      <td>...</td>\n",
       "    </tr>\n",
       "    <tr>\n",
       "      <th>2024-08-12</th>\n",
       "      <td>533.270020</td>\n",
       "      <td>0.000525</td>\n",
       "      <td>12.137013</td>\n",
       "      <td>12.855988</td>\n",
       "      <td>0.718975</td>\n",
       "    </tr>\n",
       "    <tr>\n",
       "      <th>2024-08-13</th>\n",
       "      <td>542.039978</td>\n",
       "      <td>0.016312</td>\n",
       "      <td>12.336614</td>\n",
       "      <td>12.855988</td>\n",
       "      <td>0.519374</td>\n",
       "    </tr>\n",
       "    <tr>\n",
       "      <th>2024-08-14</th>\n",
       "      <td>543.750000</td>\n",
       "      <td>0.003150</td>\n",
       "      <td>12.375533</td>\n",
       "      <td>12.855988</td>\n",
       "      <td>0.480455</td>\n",
       "    </tr>\n",
       "    <tr>\n",
       "      <th>2024-08-15</th>\n",
       "      <td>553.070007</td>\n",
       "      <td>0.016995</td>\n",
       "      <td>12.587653</td>\n",
       "      <td>12.855988</td>\n",
       "      <td>0.268335</td>\n",
       "    </tr>\n",
       "    <tr>\n",
       "      <th>2024-08-16</th>\n",
       "      <td>554.309998</td>\n",
       "      <td>0.002240</td>\n",
       "      <td>12.615875</td>\n",
       "      <td>12.855988</td>\n",
       "      <td>0.240114</td>\n",
       "    </tr>\n",
       "  </tbody>\n",
       "</table>\n",
       "<p>7943 rows × 5 columns</p>\n",
       "</div>"
      ],
      "text/plain": [
       "                 Close  d_returns  cumm_returns   cumm_max  draw_down\n",
       "Date                                                                 \n",
       "1993-02-01   44.250000   0.007087      1.007112   1.007112   0.000000\n",
       "1993-02-02   44.343750   0.002116      1.009246   1.009246   0.000000\n",
       "1993-02-03   44.812500   0.010515      1.019915   1.019915   0.000000\n",
       "1993-02-04   45.000000   0.004175      1.024182   1.024182   0.000000\n",
       "1993-02-05   44.968750  -0.000695      1.023471   1.024182   0.000711\n",
       "...                ...        ...           ...        ...        ...\n",
       "2024-08-12  533.270020   0.000525     12.137013  12.855988   0.718975\n",
       "2024-08-13  542.039978   0.016312     12.336614  12.855988   0.519374\n",
       "2024-08-14  543.750000   0.003150     12.375533  12.855988   0.480455\n",
       "2024-08-15  553.070007   0.016995     12.587653  12.855988   0.268335\n",
       "2024-08-16  554.309998   0.002240     12.615875  12.855988   0.240114\n",
       "\n",
       "[7943 rows x 5 columns]"
      ]
     },
     "execution_count": 21,
     "metadata": {},
     "output_type": "execute_result"
    }
   ],
   "source": [
    "spy['draw_down'] = spy['cumm_max'] - spy['cumm_returns']\n",
    "spy"
   ]
  },
  {
   "cell_type": "code",
   "execution_count": 22,
   "id": "d0b4495f",
   "metadata": {
    "scrolled": true
   },
   "outputs": [
    {
     "data": {
      "text/plain": [
       "2.7573256078859103"
      ]
     },
     "execution_count": 22,
     "metadata": {},
     "output_type": "execute_result"
    }
   ],
   "source": [
    "spy.draw_down.max()"
   ]
  },
  {
   "cell_type": "code",
   "execution_count": 23,
   "id": "dda52077",
   "metadata": {},
   "outputs": [
    {
     "data": {
      "text/plain": [
       "Timestamp('2022-10-12 00:00:00')"
      ]
     },
     "execution_count": 23,
     "metadata": {},
     "output_type": "execute_result"
    }
   ],
   "source": [
    "spy.draw_down.idxmax()"
   ]
  },
  {
   "cell_type": "code",
   "execution_count": 24,
   "id": "f14d991b",
   "metadata": {
    "scrolled": true
   },
   "outputs": [
    {
     "data": {
      "text/html": [
       "<div>\n",
       "<style scoped>\n",
       "    .dataframe tbody tr th:only-of-type {\n",
       "        vertical-align: middle;\n",
       "    }\n",
       "\n",
       "    .dataframe tbody tr th {\n",
       "        vertical-align: top;\n",
       "    }\n",
       "\n",
       "    .dataframe thead th {\n",
       "        text-align: right;\n",
       "    }\n",
       "</style>\n",
       "<table border=\"1\" class=\"dataframe\">\n",
       "  <thead>\n",
       "    <tr style=\"text-align: right;\">\n",
       "      <th></th>\n",
       "      <th>Close</th>\n",
       "      <th>d_returns</th>\n",
       "      <th>cumm_returns</th>\n",
       "      <th>cumm_max</th>\n",
       "      <th>draw_down</th>\n",
       "    </tr>\n",
       "    <tr>\n",
       "      <th>Date</th>\n",
       "      <th></th>\n",
       "      <th></th>\n",
       "      <th></th>\n",
       "      <th></th>\n",
       "      <th></th>\n",
       "    </tr>\n",
       "  </thead>\n",
       "  <tbody>\n",
       "    <tr>\n",
       "      <th>1993-02-01</th>\n",
       "      <td>44.250000</td>\n",
       "      <td>0.007087</td>\n",
       "      <td>1.007112</td>\n",
       "      <td>1.007112</td>\n",
       "      <td>0.000000</td>\n",
       "    </tr>\n",
       "    <tr>\n",
       "      <th>1993-02-02</th>\n",
       "      <td>44.343750</td>\n",
       "      <td>0.002116</td>\n",
       "      <td>1.009246</td>\n",
       "      <td>1.009246</td>\n",
       "      <td>0.000000</td>\n",
       "    </tr>\n",
       "    <tr>\n",
       "      <th>1993-02-03</th>\n",
       "      <td>44.812500</td>\n",
       "      <td>0.010515</td>\n",
       "      <td>1.019915</td>\n",
       "      <td>1.019915</td>\n",
       "      <td>0.000000</td>\n",
       "    </tr>\n",
       "    <tr>\n",
       "      <th>1993-02-04</th>\n",
       "      <td>45.000000</td>\n",
       "      <td>0.004175</td>\n",
       "      <td>1.024182</td>\n",
       "      <td>1.024182</td>\n",
       "      <td>0.000000</td>\n",
       "    </tr>\n",
       "    <tr>\n",
       "      <th>1993-02-05</th>\n",
       "      <td>44.968750</td>\n",
       "      <td>-0.000695</td>\n",
       "      <td>1.023471</td>\n",
       "      <td>1.024182</td>\n",
       "      <td>0.000711</td>\n",
       "    </tr>\n",
       "    <tr>\n",
       "      <th>...</th>\n",
       "      <td>...</td>\n",
       "      <td>...</td>\n",
       "      <td>...</td>\n",
       "      <td>...</td>\n",
       "      <td>...</td>\n",
       "    </tr>\n",
       "    <tr>\n",
       "      <th>2022-10-06</th>\n",
       "      <td>373.200012</td>\n",
       "      <td>-0.010369</td>\n",
       "      <td>8.493884</td>\n",
       "      <td>10.872489</td>\n",
       "      <td>2.378606</td>\n",
       "    </tr>\n",
       "    <tr>\n",
       "      <th>2022-10-07</th>\n",
       "      <td>362.790009</td>\n",
       "      <td>-0.028290</td>\n",
       "      <td>8.256956</td>\n",
       "      <td>10.872489</td>\n",
       "      <td>2.615533</td>\n",
       "    </tr>\n",
       "    <tr>\n",
       "      <th>2022-10-10</th>\n",
       "      <td>360.019989</td>\n",
       "      <td>-0.007665</td>\n",
       "      <td>8.193912</td>\n",
       "      <td>10.872489</td>\n",
       "      <td>2.678578</td>\n",
       "    </tr>\n",
       "    <tr>\n",
       "      <th>2022-10-11</th>\n",
       "      <td>357.739990</td>\n",
       "      <td>-0.006353</td>\n",
       "      <td>8.142020</td>\n",
       "      <td>10.872489</td>\n",
       "      <td>2.730469</td>\n",
       "    </tr>\n",
       "    <tr>\n",
       "      <th>2022-10-12</th>\n",
       "      <td>356.559998</td>\n",
       "      <td>-0.003304</td>\n",
       "      <td>8.115164</td>\n",
       "      <td>10.872489</td>\n",
       "      <td>2.757326</td>\n",
       "    </tr>\n",
       "  </tbody>\n",
       "</table>\n",
       "<p>7480 rows × 5 columns</p>\n",
       "</div>"
      ],
      "text/plain": [
       "                 Close  d_returns  cumm_returns   cumm_max  draw_down\n",
       "Date                                                                 \n",
       "1993-02-01   44.250000   0.007087      1.007112   1.007112   0.000000\n",
       "1993-02-02   44.343750   0.002116      1.009246   1.009246   0.000000\n",
       "1993-02-03   44.812500   0.010515      1.019915   1.019915   0.000000\n",
       "1993-02-04   45.000000   0.004175      1.024182   1.024182   0.000000\n",
       "1993-02-05   44.968750  -0.000695      1.023471   1.024182   0.000711\n",
       "...                ...        ...           ...        ...        ...\n",
       "2022-10-06  373.200012  -0.010369      8.493884  10.872489   2.378606\n",
       "2022-10-07  362.790009  -0.028290      8.256956  10.872489   2.615533\n",
       "2022-10-10  360.019989  -0.007665      8.193912  10.872489   2.678578\n",
       "2022-10-11  357.739990  -0.006353      8.142020  10.872489   2.730469\n",
       "2022-10-12  356.559998  -0.003304      8.115164  10.872489   2.757326\n",
       "\n",
       "[7480 rows x 5 columns]"
      ]
     },
     "execution_count": 24,
     "metadata": {},
     "output_type": "execute_result"
    }
   ],
   "source": [
    "spy.loc[(spy.index<='2022-10-12')]"
   ]
  },
  {
   "cell_type": "code",
   "execution_count": 25,
   "id": "0f680a0c",
   "metadata": {
    "scrolled": true
   },
   "outputs": [
    {
     "data": {
      "text/html": [
       "<div>\n",
       "<style scoped>\n",
       "    .dataframe tbody tr th:only-of-type {\n",
       "        vertical-align: middle;\n",
       "    }\n",
       "\n",
       "    .dataframe tbody tr th {\n",
       "        vertical-align: top;\n",
       "    }\n",
       "\n",
       "    .dataframe thead th {\n",
       "        text-align: right;\n",
       "    }\n",
       "</style>\n",
       "<table border=\"1\" class=\"dataframe\">\n",
       "  <thead>\n",
       "    <tr style=\"text-align: right;\">\n",
       "      <th></th>\n",
       "      <th>Close</th>\n",
       "      <th>d_returns</th>\n",
       "      <th>cumm_returns</th>\n",
       "      <th>cumm_max</th>\n",
       "      <th>draw_down</th>\n",
       "      <th>draw_down_percentage</th>\n",
       "    </tr>\n",
       "    <tr>\n",
       "      <th>Date</th>\n",
       "      <th></th>\n",
       "      <th></th>\n",
       "      <th></th>\n",
       "      <th></th>\n",
       "      <th></th>\n",
       "      <th></th>\n",
       "    </tr>\n",
       "  </thead>\n",
       "  <tbody>\n",
       "    <tr>\n",
       "      <th>1993-02-01</th>\n",
       "      <td>44.250000</td>\n",
       "      <td>0.007087</td>\n",
       "      <td>1.007112</td>\n",
       "      <td>1.007112</td>\n",
       "      <td>0.000000</td>\n",
       "      <td>0.000000</td>\n",
       "    </tr>\n",
       "    <tr>\n",
       "      <th>1993-02-02</th>\n",
       "      <td>44.343750</td>\n",
       "      <td>0.002116</td>\n",
       "      <td>1.009246</td>\n",
       "      <td>1.009246</td>\n",
       "      <td>0.000000</td>\n",
       "      <td>0.000000</td>\n",
       "    </tr>\n",
       "    <tr>\n",
       "      <th>1993-02-03</th>\n",
       "      <td>44.812500</td>\n",
       "      <td>0.010515</td>\n",
       "      <td>1.019915</td>\n",
       "      <td>1.019915</td>\n",
       "      <td>0.000000</td>\n",
       "      <td>0.000000</td>\n",
       "    </tr>\n",
       "    <tr>\n",
       "      <th>1993-02-04</th>\n",
       "      <td>45.000000</td>\n",
       "      <td>0.004175</td>\n",
       "      <td>1.024182</td>\n",
       "      <td>1.024182</td>\n",
       "      <td>0.000000</td>\n",
       "      <td>0.000000</td>\n",
       "    </tr>\n",
       "    <tr>\n",
       "      <th>1993-02-05</th>\n",
       "      <td>44.968750</td>\n",
       "      <td>-0.000695</td>\n",
       "      <td>1.023471</td>\n",
       "      <td>1.024182</td>\n",
       "      <td>0.000711</td>\n",
       "      <td>0.000694</td>\n",
       "    </tr>\n",
       "    <tr>\n",
       "      <th>...</th>\n",
       "      <td>...</td>\n",
       "      <td>...</td>\n",
       "      <td>...</td>\n",
       "      <td>...</td>\n",
       "      <td>...</td>\n",
       "      <td>...</td>\n",
       "    </tr>\n",
       "    <tr>\n",
       "      <th>2024-08-12</th>\n",
       "      <td>533.270020</td>\n",
       "      <td>0.000525</td>\n",
       "      <td>12.137013</td>\n",
       "      <td>12.855988</td>\n",
       "      <td>0.718975</td>\n",
       "      <td>0.055925</td>\n",
       "    </tr>\n",
       "    <tr>\n",
       "      <th>2024-08-13</th>\n",
       "      <td>542.039978</td>\n",
       "      <td>0.016312</td>\n",
       "      <td>12.336614</td>\n",
       "      <td>12.855988</td>\n",
       "      <td>0.519374</td>\n",
       "      <td>0.040399</td>\n",
       "    </tr>\n",
       "    <tr>\n",
       "      <th>2024-08-14</th>\n",
       "      <td>543.750000</td>\n",
       "      <td>0.003150</td>\n",
       "      <td>12.375533</td>\n",
       "      <td>12.855988</td>\n",
       "      <td>0.480455</td>\n",
       "      <td>0.037372</td>\n",
       "    </tr>\n",
       "    <tr>\n",
       "      <th>2024-08-15</th>\n",
       "      <td>553.070007</td>\n",
       "      <td>0.016995</td>\n",
       "      <td>12.587653</td>\n",
       "      <td>12.855988</td>\n",
       "      <td>0.268335</td>\n",
       "      <td>0.020872</td>\n",
       "    </tr>\n",
       "    <tr>\n",
       "      <th>2024-08-16</th>\n",
       "      <td>554.309998</td>\n",
       "      <td>0.002240</td>\n",
       "      <td>12.615875</td>\n",
       "      <td>12.855988</td>\n",
       "      <td>0.240114</td>\n",
       "      <td>0.018677</td>\n",
       "    </tr>\n",
       "  </tbody>\n",
       "</table>\n",
       "<p>7943 rows × 6 columns</p>\n",
       "</div>"
      ],
      "text/plain": [
       "                 Close  d_returns  cumm_returns   cumm_max  draw_down  \\\n",
       "Date                                                                    \n",
       "1993-02-01   44.250000   0.007087      1.007112   1.007112   0.000000   \n",
       "1993-02-02   44.343750   0.002116      1.009246   1.009246   0.000000   \n",
       "1993-02-03   44.812500   0.010515      1.019915   1.019915   0.000000   \n",
       "1993-02-04   45.000000   0.004175      1.024182   1.024182   0.000000   \n",
       "1993-02-05   44.968750  -0.000695      1.023471   1.024182   0.000711   \n",
       "...                ...        ...           ...        ...        ...   \n",
       "2024-08-12  533.270020   0.000525     12.137013  12.855988   0.718975   \n",
       "2024-08-13  542.039978   0.016312     12.336614  12.855988   0.519374   \n",
       "2024-08-14  543.750000   0.003150     12.375533  12.855988   0.480455   \n",
       "2024-08-15  553.070007   0.016995     12.587653  12.855988   0.268335   \n",
       "2024-08-16  554.309998   0.002240     12.615875  12.855988   0.240114   \n",
       "\n",
       "            draw_down_percentage  \n",
       "Date                              \n",
       "1993-02-01              0.000000  \n",
       "1993-02-02              0.000000  \n",
       "1993-02-03              0.000000  \n",
       "1993-02-04              0.000000  \n",
       "1993-02-05              0.000694  \n",
       "...                          ...  \n",
       "2024-08-12              0.055925  \n",
       "2024-08-13              0.040399  \n",
       "2024-08-14              0.037372  \n",
       "2024-08-15              0.020872  \n",
       "2024-08-16              0.018677  \n",
       "\n",
       "[7943 rows x 6 columns]"
      ]
     },
     "execution_count": 25,
     "metadata": {},
     "output_type": "execute_result"
    }
   ],
   "source": [
    "# Calculating drawdown percentage\n",
    "spy['draw_down_percentage'] = (spy['cumm_max'] - spy['cumm_returns']) / spy['cumm_max']\n",
    "spy"
   ]
  },
  {
   "cell_type": "code",
   "execution_count": 26,
   "id": "f2097487",
   "metadata": {},
   "outputs": [
    {
     "data": {
      "text/plain": [
       "0.5647366917817166"
      ]
     },
     "execution_count": 26,
     "metadata": {},
     "output_type": "execute_result"
    }
   ],
   "source": [
    "# Finding the max drawdown\n",
    "spy.draw_down_percentage.max()"
   ]
  },
  {
   "cell_type": "code",
   "execution_count": 27,
   "id": "27e44636",
   "metadata": {},
   "outputs": [
    {
     "data": {
      "text/plain": [
       "Timestamp('2009-03-09 00:00:00')"
      ]
     },
     "execution_count": 27,
     "metadata": {},
     "output_type": "execute_result"
    }
   ],
   "source": [
    "spy.draw_down_percentage.idxmax()"
   ]
  },
  {
   "cell_type": "code",
   "execution_count": 28,
   "id": "2cab5f3d",
   "metadata": {
    "scrolled": true
   },
   "outputs": [
    {
     "data": {
      "text/html": [
       "<div>\n",
       "<style scoped>\n",
       "    .dataframe tbody tr th:only-of-type {\n",
       "        vertical-align: middle;\n",
       "    }\n",
       "\n",
       "    .dataframe tbody tr th {\n",
       "        vertical-align: top;\n",
       "    }\n",
       "\n",
       "    .dataframe thead th {\n",
       "        text-align: right;\n",
       "    }\n",
       "</style>\n",
       "<table border=\"1\" class=\"dataframe\">\n",
       "  <thead>\n",
       "    <tr style=\"text-align: right;\">\n",
       "      <th></th>\n",
       "      <th>Close</th>\n",
       "      <th>d_returns</th>\n",
       "      <th>cumm_returns</th>\n",
       "      <th>cumm_max</th>\n",
       "      <th>draw_down</th>\n",
       "      <th>draw_down_percentage</th>\n",
       "    </tr>\n",
       "    <tr>\n",
       "      <th>Date</th>\n",
       "      <th></th>\n",
       "      <th></th>\n",
       "      <th></th>\n",
       "      <th></th>\n",
       "      <th></th>\n",
       "      <th></th>\n",
       "    </tr>\n",
       "  </thead>\n",
       "  <tbody>\n",
       "    <tr>\n",
       "      <th>1993-02-01</th>\n",
       "      <td>44.250000</td>\n",
       "      <td>0.007087</td>\n",
       "      <td>1.007112</td>\n",
       "      <td>1.007112</td>\n",
       "      <td>0.000000</td>\n",
       "      <td>0.000000</td>\n",
       "    </tr>\n",
       "    <tr>\n",
       "      <th>1993-02-02</th>\n",
       "      <td>44.343750</td>\n",
       "      <td>0.002116</td>\n",
       "      <td>1.009246</td>\n",
       "      <td>1.009246</td>\n",
       "      <td>0.000000</td>\n",
       "      <td>0.000000</td>\n",
       "    </tr>\n",
       "    <tr>\n",
       "      <th>1993-02-03</th>\n",
       "      <td>44.812500</td>\n",
       "      <td>0.010515</td>\n",
       "      <td>1.019915</td>\n",
       "      <td>1.019915</td>\n",
       "      <td>0.000000</td>\n",
       "      <td>0.000000</td>\n",
       "    </tr>\n",
       "    <tr>\n",
       "      <th>1993-02-04</th>\n",
       "      <td>45.000000</td>\n",
       "      <td>0.004175</td>\n",
       "      <td>1.024182</td>\n",
       "      <td>1.024182</td>\n",
       "      <td>0.000000</td>\n",
       "      <td>0.000000</td>\n",
       "    </tr>\n",
       "    <tr>\n",
       "      <th>1993-02-05</th>\n",
       "      <td>44.968750</td>\n",
       "      <td>-0.000695</td>\n",
       "      <td>1.023471</td>\n",
       "      <td>1.024182</td>\n",
       "      <td>0.000711</td>\n",
       "      <td>0.000694</td>\n",
       "    </tr>\n",
       "    <tr>\n",
       "      <th>...</th>\n",
       "      <td>...</td>\n",
       "      <td>...</td>\n",
       "      <td>...</td>\n",
       "      <td>...</td>\n",
       "      <td>...</td>\n",
       "      <td>...</td>\n",
       "    </tr>\n",
       "    <tr>\n",
       "      <th>2009-03-03</th>\n",
       "      <td>70.070000</td>\n",
       "      <td>-0.007535</td>\n",
       "      <td>1.594765</td>\n",
       "      <td>3.561422</td>\n",
       "      <td>1.966657</td>\n",
       "      <td>0.552211</td>\n",
       "    </tr>\n",
       "    <tr>\n",
       "      <th>2009-03-04</th>\n",
       "      <td>71.730003</td>\n",
       "      <td>0.023414</td>\n",
       "      <td>1.632546</td>\n",
       "      <td>3.561422</td>\n",
       "      <td>1.928876</td>\n",
       "      <td>0.541603</td>\n",
       "    </tr>\n",
       "    <tr>\n",
       "      <th>2009-03-05</th>\n",
       "      <td>68.800003</td>\n",
       "      <td>-0.041705</td>\n",
       "      <td>1.565861</td>\n",
       "      <td>3.561422</td>\n",
       "      <td>1.995562</td>\n",
       "      <td>0.560327</td>\n",
       "    </tr>\n",
       "    <tr>\n",
       "      <th>2009-03-06</th>\n",
       "      <td>68.919998</td>\n",
       "      <td>0.001743</td>\n",
       "      <td>1.568592</td>\n",
       "      <td>3.561422</td>\n",
       "      <td>1.992831</td>\n",
       "      <td>0.559560</td>\n",
       "    </tr>\n",
       "    <tr>\n",
       "      <th>2009-03-09</th>\n",
       "      <td>68.110001</td>\n",
       "      <td>-0.011822</td>\n",
       "      <td>1.550156</td>\n",
       "      <td>3.561422</td>\n",
       "      <td>2.011266</td>\n",
       "      <td>0.564737</td>\n",
       "    </tr>\n",
       "  </tbody>\n",
       "</table>\n",
       "<p>4056 rows × 6 columns</p>\n",
       "</div>"
      ],
      "text/plain": [
       "                Close  d_returns  cumm_returns  cumm_max  draw_down  \\\n",
       "Date                                                                  \n",
       "1993-02-01  44.250000   0.007087      1.007112  1.007112   0.000000   \n",
       "1993-02-02  44.343750   0.002116      1.009246  1.009246   0.000000   \n",
       "1993-02-03  44.812500   0.010515      1.019915  1.019915   0.000000   \n",
       "1993-02-04  45.000000   0.004175      1.024182  1.024182   0.000000   \n",
       "1993-02-05  44.968750  -0.000695      1.023471  1.024182   0.000711   \n",
       "...               ...        ...           ...       ...        ...   \n",
       "2009-03-03  70.070000  -0.007535      1.594765  3.561422   1.966657   \n",
       "2009-03-04  71.730003   0.023414      1.632546  3.561422   1.928876   \n",
       "2009-03-05  68.800003  -0.041705      1.565861  3.561422   1.995562   \n",
       "2009-03-06  68.919998   0.001743      1.568592  3.561422   1.992831   \n",
       "2009-03-09  68.110001  -0.011822      1.550156  3.561422   2.011266   \n",
       "\n",
       "            draw_down_percentage  \n",
       "Date                              \n",
       "1993-02-01              0.000000  \n",
       "1993-02-02              0.000000  \n",
       "1993-02-03              0.000000  \n",
       "1993-02-04              0.000000  \n",
       "1993-02-05              0.000694  \n",
       "...                          ...  \n",
       "2009-03-03              0.552211  \n",
       "2009-03-04              0.541603  \n",
       "2009-03-05              0.560327  \n",
       "2009-03-06              0.559560  \n",
       "2009-03-09              0.564737  \n",
       "\n",
       "[4056 rows x 6 columns]"
      ]
     },
     "execution_count": 28,
     "metadata": {},
     "output_type": "execute_result"
    }
   ],
   "source": [
    "spy.loc[(spy.index<='2009-03-09')]"
   ]
  },
  {
   "cell_type": "markdown",
   "id": "7feac176",
   "metadata": {},
   "source": [
    "## SMA Strategy (SPY)"
   ]
  },
  {
   "cell_type": "code",
   "execution_count": 29,
   "id": "a49fdf5d",
   "metadata": {
    "scrolled": true
   },
   "outputs": [
    {
     "data": {
      "text/html": [
       "<div>\n",
       "<style scoped>\n",
       "    .dataframe tbody tr th:only-of-type {\n",
       "        vertical-align: middle;\n",
       "    }\n",
       "\n",
       "    .dataframe tbody tr th {\n",
       "        vertical-align: top;\n",
       "    }\n",
       "\n",
       "    .dataframe thead th {\n",
       "        text-align: right;\n",
       "    }\n",
       "</style>\n",
       "<table border=\"1\" class=\"dataframe\">\n",
       "  <thead>\n",
       "    <tr style=\"text-align: right;\">\n",
       "      <th></th>\n",
       "      <th>Close</th>\n",
       "    </tr>\n",
       "    <tr>\n",
       "      <th>Date</th>\n",
       "      <th></th>\n",
       "    </tr>\n",
       "  </thead>\n",
       "  <tbody>\n",
       "    <tr>\n",
       "      <th>1993-02-01</th>\n",
       "      <td>44.250000</td>\n",
       "    </tr>\n",
       "    <tr>\n",
       "      <th>1993-02-02</th>\n",
       "      <td>44.343750</td>\n",
       "    </tr>\n",
       "    <tr>\n",
       "      <th>1993-02-03</th>\n",
       "      <td>44.812500</td>\n",
       "    </tr>\n",
       "    <tr>\n",
       "      <th>1993-02-04</th>\n",
       "      <td>45.000000</td>\n",
       "    </tr>\n",
       "    <tr>\n",
       "      <th>1993-02-05</th>\n",
       "      <td>44.968750</td>\n",
       "    </tr>\n",
       "    <tr>\n",
       "      <th>...</th>\n",
       "      <td>...</td>\n",
       "    </tr>\n",
       "    <tr>\n",
       "      <th>2024-08-12</th>\n",
       "      <td>533.270020</td>\n",
       "    </tr>\n",
       "    <tr>\n",
       "      <th>2024-08-13</th>\n",
       "      <td>542.039978</td>\n",
       "    </tr>\n",
       "    <tr>\n",
       "      <th>2024-08-14</th>\n",
       "      <td>543.750000</td>\n",
       "    </tr>\n",
       "    <tr>\n",
       "      <th>2024-08-15</th>\n",
       "      <td>553.070007</td>\n",
       "    </tr>\n",
       "    <tr>\n",
       "      <th>2024-08-16</th>\n",
       "      <td>554.309998</td>\n",
       "    </tr>\n",
       "  </tbody>\n",
       "</table>\n",
       "<p>7943 rows × 1 columns</p>\n",
       "</div>"
      ],
      "text/plain": [
       "                 Close\n",
       "Date                  \n",
       "1993-02-01   44.250000\n",
       "1993-02-02   44.343750\n",
       "1993-02-03   44.812500\n",
       "1993-02-04   45.000000\n",
       "1993-02-05   44.968750\n",
       "...                ...\n",
       "2024-08-12  533.270020\n",
       "2024-08-13  542.039978\n",
       "2024-08-14  543.750000\n",
       "2024-08-15  553.070007\n",
       "2024-08-16  554.309998\n",
       "\n",
       "[7943 rows x 1 columns]"
      ]
     },
     "execution_count": 29,
     "metadata": {},
     "output_type": "execute_result"
    }
   ],
   "source": [
    "data = spy.Close.loc[(spy.index>='1991-01-01')]\n",
    "data = data.to_frame()\n",
    "data"
   ]
  },
  {
   "cell_type": "code",
   "execution_count": 30,
   "id": "592fe5b5",
   "metadata": {},
   "outputs": [],
   "source": [
    "# moving averages\n",
    "sma_s = 50\n",
    "sma_l = 100\n",
    "\n",
    "data['sma_s'] = data.Close.rolling(sma_s).mean()\n",
    "data['sma_l'] = data.Close.rolling(sma_l).mean()"
   ]
  },
  {
   "cell_type": "code",
   "execution_count": 31,
   "id": "f4ab29c8",
   "metadata": {
    "scrolled": true
   },
   "outputs": [
    {
     "data": {
      "text/html": [
       "<div>\n",
       "<style scoped>\n",
       "    .dataframe tbody tr th:only-of-type {\n",
       "        vertical-align: middle;\n",
       "    }\n",
       "\n",
       "    .dataframe tbody tr th {\n",
       "        vertical-align: top;\n",
       "    }\n",
       "\n",
       "    .dataframe thead th {\n",
       "        text-align: right;\n",
       "    }\n",
       "</style>\n",
       "<table border=\"1\" class=\"dataframe\">\n",
       "  <thead>\n",
       "    <tr style=\"text-align: right;\">\n",
       "      <th></th>\n",
       "      <th>Close</th>\n",
       "      <th>sma_s</th>\n",
       "      <th>sma_l</th>\n",
       "    </tr>\n",
       "    <tr>\n",
       "      <th>Date</th>\n",
       "      <th></th>\n",
       "      <th></th>\n",
       "      <th></th>\n",
       "    </tr>\n",
       "  </thead>\n",
       "  <tbody>\n",
       "    <tr>\n",
       "      <th>1993-02-01</th>\n",
       "      <td>44.250000</td>\n",
       "      <td>NaN</td>\n",
       "      <td>NaN</td>\n",
       "    </tr>\n",
       "    <tr>\n",
       "      <th>1993-02-02</th>\n",
       "      <td>44.343750</td>\n",
       "      <td>NaN</td>\n",
       "      <td>NaN</td>\n",
       "    </tr>\n",
       "    <tr>\n",
       "      <th>1993-02-03</th>\n",
       "      <td>44.812500</td>\n",
       "      <td>NaN</td>\n",
       "      <td>NaN</td>\n",
       "    </tr>\n",
       "    <tr>\n",
       "      <th>1993-02-04</th>\n",
       "      <td>45.000000</td>\n",
       "      <td>NaN</td>\n",
       "      <td>NaN</td>\n",
       "    </tr>\n",
       "    <tr>\n",
       "      <th>1993-02-05</th>\n",
       "      <td>44.968750</td>\n",
       "      <td>NaN</td>\n",
       "      <td>NaN</td>\n",
       "    </tr>\n",
       "    <tr>\n",
       "      <th>...</th>\n",
       "      <td>...</td>\n",
       "      <td>...</td>\n",
       "      <td>...</td>\n",
       "    </tr>\n",
       "    <tr>\n",
       "      <th>2024-08-12</th>\n",
       "      <td>533.270020</td>\n",
       "      <td>543.445602</td>\n",
       "      <td>529.975701</td>\n",
       "    </tr>\n",
       "    <tr>\n",
       "      <th>2024-08-13</th>\n",
       "      <td>542.039978</td>\n",
       "      <td>543.739001</td>\n",
       "      <td>530.191301</td>\n",
       "    </tr>\n",
       "    <tr>\n",
       "      <th>2024-08-14</th>\n",
       "      <td>543.750000</td>\n",
       "      <td>544.058002</td>\n",
       "      <td>530.406801</td>\n",
       "    </tr>\n",
       "    <tr>\n",
       "      <th>2024-08-15</th>\n",
       "      <td>553.070007</td>\n",
       "      <td>544.551602</td>\n",
       "      <td>530.725401</td>\n",
       "    </tr>\n",
       "    <tr>\n",
       "      <th>2024-08-16</th>\n",
       "      <td>554.309998</td>\n",
       "      <td>544.944402</td>\n",
       "      <td>531.070800</td>\n",
       "    </tr>\n",
       "  </tbody>\n",
       "</table>\n",
       "<p>7943 rows × 3 columns</p>\n",
       "</div>"
      ],
      "text/plain": [
       "                 Close       sma_s       sma_l\n",
       "Date                                          \n",
       "1993-02-01   44.250000         NaN         NaN\n",
       "1993-02-02   44.343750         NaN         NaN\n",
       "1993-02-03   44.812500         NaN         NaN\n",
       "1993-02-04   45.000000         NaN         NaN\n",
       "1993-02-05   44.968750         NaN         NaN\n",
       "...                ...         ...         ...\n",
       "2024-08-12  533.270020  543.445602  529.975701\n",
       "2024-08-13  542.039978  543.739001  530.191301\n",
       "2024-08-14  543.750000  544.058002  530.406801\n",
       "2024-08-15  553.070007  544.551602  530.725401\n",
       "2024-08-16  554.309998  544.944402  531.070800\n",
       "\n",
       "[7943 rows x 3 columns]"
      ]
     },
     "execution_count": 31,
     "metadata": {},
     "output_type": "execute_result"
    }
   ],
   "source": [
    "data"
   ]
  },
  {
   "cell_type": "code",
   "execution_count": 32,
   "id": "bbcb6731",
   "metadata": {
    "scrolled": true
   },
   "outputs": [
    {
     "data": {
      "image/png": "[encoded data removed]",
      "text/plain": [
       "<Figure size 1200x800 with 1 Axes>"
      ]
     },
     "metadata": {},
     "output_type": "display_data"
    }
   ],
   "source": [
    "data.plot(figsize=(12,8), title='SPY - SMA {} | SMA {}'.format(sma_s, sma_l), fontsize=12);"
   ]
  },
  {
   "cell_type": "code",
   "execution_count": 33,
   "id": "9efa4552",
   "metadata": {
    "scrolled": true
   },
   "outputs": [
    {
     "data": {
      "image/png": "[encoded data removed]",
      "text/plain": [
       "<Figure size 1200x800 with 1 Axes>"
      ]
     },
     "metadata": {},
     "output_type": "display_data"
    }
   ],
   "source": [
    "data.loc['2023'].plot(figsize=(12,8), title='SPY - SMA {} | SMA {}'.format(sma_s, sma_l), fontsize=12);"
   ]
  },
  {
   "cell_type": "code",
   "execution_count": 34,
   "id": "73ca7a1a",
   "metadata": {},
   "outputs": [],
   "source": [
    "data.dropna(inplace=True)"
   ]
  },
  {
   "cell_type": "code",
   "execution_count": 35,
   "id": "53a02ce7",
   "metadata": {
    "scrolled": true
   },
   "outputs": [],
   "source": [
    "data['position'] = np.where(data['sma_s']>data['sma_l'], 1, -1)"
   ]
  },
  {
   "cell_type": "code",
   "execution_count": 36,
   "id": "f545b938",
   "metadata": {
    "scrolled": true
   },
   "outputs": [
    {
     "data": {
      "text/html": [
       "<div>\n",
       "<style scoped>\n",
       "    .dataframe tbody tr th:only-of-type {\n",
       "        vertical-align: middle;\n",
       "    }\n",
       "\n",
       "    .dataframe tbody tr th {\n",
       "        vertical-align: top;\n",
       "    }\n",
       "\n",
       "    .dataframe thead th {\n",
       "        text-align: right;\n",
       "    }\n",
       "</style>\n",
       "<table border=\"1\" class=\"dataframe\">\n",
       "  <thead>\n",
       "    <tr style=\"text-align: right;\">\n",
       "      <th></th>\n",
       "      <th>Close</th>\n",
       "      <th>sma_s</th>\n",
       "      <th>sma_l</th>\n",
       "      <th>position</th>\n",
       "    </tr>\n",
       "    <tr>\n",
       "      <th>Date</th>\n",
       "      <th></th>\n",
       "      <th></th>\n",
       "      <th></th>\n",
       "      <th></th>\n",
       "    </tr>\n",
       "  </thead>\n",
       "  <tbody>\n",
       "    <tr>\n",
       "      <th>1993-06-23</th>\n",
       "      <td>44.218750</td>\n",
       "      <td>44.668125</td>\n",
       "      <td>44.688437</td>\n",
       "      <td>-1</td>\n",
       "    </tr>\n",
       "    <tr>\n",
       "      <th>1993-06-24</th>\n",
       "      <td>44.812500</td>\n",
       "      <td>44.665625</td>\n",
       "      <td>44.694063</td>\n",
       "      <td>-1</td>\n",
       "    </tr>\n",
       "    <tr>\n",
       "      <th>1993-06-25</th>\n",
       "      <td>44.781250</td>\n",
       "      <td>44.662500</td>\n",
       "      <td>44.698437</td>\n",
       "      <td>-1</td>\n",
       "    </tr>\n",
       "    <tr>\n",
       "      <th>1993-06-28</th>\n",
       "      <td>45.281250</td>\n",
       "      <td>44.669375</td>\n",
       "      <td>44.703125</td>\n",
       "      <td>-1</td>\n",
       "    </tr>\n",
       "    <tr>\n",
       "      <th>1993-06-29</th>\n",
       "      <td>45.062500</td>\n",
       "      <td>44.675625</td>\n",
       "      <td>44.703750</td>\n",
       "      <td>-1</td>\n",
       "    </tr>\n",
       "    <tr>\n",
       "      <th>...</th>\n",
       "      <td>...</td>\n",
       "      <td>...</td>\n",
       "      <td>...</td>\n",
       "      <td>...</td>\n",
       "    </tr>\n",
       "    <tr>\n",
       "      <th>2024-08-12</th>\n",
       "      <td>533.270020</td>\n",
       "      <td>543.445602</td>\n",
       "      <td>529.975701</td>\n",
       "      <td>1</td>\n",
       "    </tr>\n",
       "    <tr>\n",
       "      <th>2024-08-13</th>\n",
       "      <td>542.039978</td>\n",
       "      <td>543.739001</td>\n",
       "      <td>530.191301</td>\n",
       "      <td>1</td>\n",
       "    </tr>\n",
       "    <tr>\n",
       "      <th>2024-08-14</th>\n",
       "      <td>543.750000</td>\n",
       "      <td>544.058002</td>\n",
       "      <td>530.406801</td>\n",
       "      <td>1</td>\n",
       "    </tr>\n",
       "    <tr>\n",
       "      <th>2024-08-15</th>\n",
       "      <td>553.070007</td>\n",
       "      <td>544.551602</td>\n",
       "      <td>530.725401</td>\n",
       "      <td>1</td>\n",
       "    </tr>\n",
       "    <tr>\n",
       "      <th>2024-08-16</th>\n",
       "      <td>554.309998</td>\n",
       "      <td>544.944402</td>\n",
       "      <td>531.070800</td>\n",
       "      <td>1</td>\n",
       "    </tr>\n",
       "  </tbody>\n",
       "</table>\n",
       "<p>7844 rows × 4 columns</p>\n",
       "</div>"
      ],
      "text/plain": [
       "                 Close       sma_s       sma_l  position\n",
       "Date                                                    \n",
       "1993-06-23   44.218750   44.668125   44.688437        -1\n",
       "1993-06-24   44.812500   44.665625   44.694063        -1\n",
       "1993-06-25   44.781250   44.662500   44.698437        -1\n",
       "1993-06-28   45.281250   44.669375   44.703125        -1\n",
       "1993-06-29   45.062500   44.675625   44.703750        -1\n",
       "...                ...         ...         ...       ...\n",
       "2024-08-12  533.270020  543.445602  529.975701         1\n",
       "2024-08-13  542.039978  543.739001  530.191301         1\n",
       "2024-08-14  543.750000  544.058002  530.406801         1\n",
       "2024-08-15  553.070007  544.551602  530.725401         1\n",
       "2024-08-16  554.309998  544.944402  531.070800         1\n",
       "\n",
       "[7844 rows x 4 columns]"
      ]
     },
     "execution_count": 36,
     "metadata": {},
     "output_type": "execute_result"
    }
   ],
   "source": [
    "data"
   ]
  },
  {
   "cell_type": "code",
   "execution_count": 37,
   "id": "a565ee70",
   "metadata": {},
   "outputs": [
    {
     "data": {
      "image/png": "[encoded data removed]",
      "text/plain": [
       "<Figure size 1200x800 with 2 Axes>"
      ]
     },
     "metadata": {},
     "output_type": "display_data"
    }
   ],
   "source": [
    "data.loc['2018':'2023',[\"sma_s\", \"sma_l\",'position']].plot(figsize=(12,8), title='SPY - SMA {} | SMA {}'.format(sma_s, sma_l), fontsize=12,\n",
    "                                              secondary_y='position');"
   ]
  },
  {
   "cell_type": "code",
   "execution_count": 38,
   "id": "d8645ff4",
   "metadata": {},
   "outputs": [],
   "source": [
    "# buy and hold column\n",
    "data['returns_bnh'] = np.log(data.Close.div(data.Close.shift(1)))"
   ]
  },
  {
   "cell_type": "code",
   "execution_count": 39,
   "id": "ac2d0fb8",
   "metadata": {},
   "outputs": [],
   "source": [
    "# strategy column\n",
    "data['strategy'] = data['returns_bnh'] * data.position.shift(1)"
   ]
  },
  {
   "cell_type": "code",
   "execution_count": 40,
   "id": "1929c213",
   "metadata": {},
   "outputs": [],
   "source": [
    "data.dropna(inplace=True)"
   ]
  },
  {
   "cell_type": "code",
   "execution_count": 41,
   "id": "0bc76ab2",
   "metadata": {
    "scrolled": true
   },
   "outputs": [
    {
     "data": {
      "text/plain": [
       "returns_bnh    2.528575\n",
       "strategy       1.026222\n",
       "dtype: float64"
      ]
     },
     "execution_count": 41,
     "metadata": {},
     "output_type": "execute_result"
    }
   ],
   "source": [
    "data[['returns_bnh','strategy']].sum()"
   ]
  },
  {
   "cell_type": "code",
   "execution_count": 42,
   "id": "be22664e",
   "metadata": {
    "scrolled": true
   },
   "outputs": [
    {
     "data": {
      "text/plain": [
       "returns_bnh    12.535632\n",
       "strategy        2.790504\n",
       "dtype: float64"
      ]
     },
     "execution_count": 42,
     "metadata": {},
     "output_type": "execute_result"
    }
   ],
   "source": [
    "data[['returns_bnh','strategy']].sum().apply(np.exp)"
   ]
  },
  {
   "cell_type": "code",
   "execution_count": 43,
   "id": "cb7a2504",
   "metadata": {
    "scrolled": true
   },
   "outputs": [
    {
     "data": {
      "text/plain": [
       "returns_bnh    0.187983\n",
       "strategy       0.188042\n",
       "dtype: float64"
      ]
     },
     "execution_count": 43,
     "metadata": {},
     "output_type": "execute_result"
    }
   ],
   "source": [
    "data[['returns_bnh','strategy']].std()*np.sqrt(252) # annual std"
   ]
  },
  {
   "cell_type": "markdown",
   "id": "c46f4bdb",
   "metadata": {},
   "source": [
    "### Strategy adjusted with long bias"
   ]
  },
  {
   "cell_type": "code",
   "execution_count": 44,
   "id": "421f942a",
   "metadata": {},
   "outputs": [],
   "source": [
    "data['position2'] = np.where(data['sma_s']>data['sma_l'], 1, 0)"
   ]
  },
  {
   "cell_type": "code",
   "execution_count": 45,
   "id": "8856e06d",
   "metadata": {},
   "outputs": [],
   "source": [
    "data['strategy2'] = data['returns_bnh'] * data.position2.shift(1)"
   ]
  },
  {
   "cell_type": "code",
   "execution_count": 46,
   "id": "713c0723",
   "metadata": {},
   "outputs": [],
   "source": [
    "data.dropna(inplace=True)"
   ]
  },
  {
   "cell_type": "code",
   "execution_count": 47,
   "id": "b40a4f11",
   "metadata": {
    "scrolled": true
   },
   "outputs": [
    {
     "data": {
      "text/plain": [
       "returns_bnh    2.515237\n",
       "strategy2      1.777399\n",
       "dtype: float64"
      ]
     },
     "execution_count": 47,
     "metadata": {},
     "output_type": "execute_result"
    }
   ],
   "source": [
    "data[['returns_bnh','strategy2']].sum()"
   ]
  },
  {
   "cell_type": "code",
   "execution_count": 48,
   "id": "52d0f614",
   "metadata": {
    "scrolled": true
   },
   "outputs": [
    {
     "data": {
      "text/plain": [
       "returns_bnh    12.369540\n",
       "strategy2       5.914451\n",
       "dtype: float64"
      ]
     },
     "execution_count": 48,
     "metadata": {},
     "output_type": "execute_result"
    }
   ],
   "source": [
    "data[['returns_bnh','strategy2']].sum().apply(np.exp)"
   ]
  },
  {
   "cell_type": "code",
   "execution_count": 49,
   "id": "c7f12087",
   "metadata": {
    "scrolled": true
   },
   "outputs": [
    {
     "data": {
      "text/plain": [
       "returns_bnh    0.187981\n",
       "strategy2      0.130791\n",
       "dtype: float64"
      ]
     },
     "execution_count": 49,
     "metadata": {},
     "output_type": "execute_result"
    }
   ],
   "source": [
    "data[['returns_bnh','strategy2']].std()*np.sqrt(252) # risk"
   ]
  },
  {
   "cell_type": "code",
   "execution_count": 50,
   "id": "7f74c724",
   "metadata": {},
   "outputs": [
    {
     "data": {
      "text/plain": [
       "strategy     0.188038\n",
       "strategy2    0.130791\n",
       "dtype: float64"
      ]
     },
     "execution_count": 50,
     "metadata": {},
     "output_type": "execute_result"
    }
   ],
   "source": [
    "data[['strategy','strategy2']].std()*np.sqrt(252) # risk"
   ]
  },
  {
   "cell_type": "code",
   "execution_count": 76,
   "id": "0199e439",
   "metadata": {},
   "outputs": [
    {
     "data": {
      "image/png": "[encoded data removed]",
      "text/plain": [
       "<Figure size 1200x800 with 2 Axes>"
      ]
     },
     "metadata": {},
     "output_type": "display_data"
    }
   ],
   "source": [
    "data.loc['2023':'2024',[\"sma_s\", \"sma_l\",'position']].plot(figsize=(12,8), title='SPY - SMA {} | SMA {}'.format(sma_s, sma_l), fontsize=12,\n",
    "                                              secondary_y='position');"
   ]
  },
  {
   "cell_type": "markdown",
   "id": "ce79bed2",
   "metadata": {
    "heading_collapsed": true
   },
   "source": [
    "## Custom Functions"
   ]
  },
  {
   "cell_type": "code",
   "execution_count": 52,
   "id": "3a9f6ae3",
   "metadata": {
    "hidden": true
   },
   "outputs": [],
   "source": [
    "def plot_importance(importances, top_n=None,  figsize=(8,6)):\n",
    "    # sorting with asc=false for correct order of bars\n",
    "    if top_n==None:\n",
    "        ## sort all features and set title\n",
    "        plot_vals = importances.sort_values()\n",
    "        title = \"All Features - Ranked by Importance\"\n",
    "    else:\n",
    "        ## sort features and keep top_n and set title\n",
    "        plot_vals = importances.sort_values().tail(top_n)\n",
    "        title = f\"Top {top_n} Most Important Features\"\n",
    "    ## plotting top N importances\n",
    "    ax = plot_vals.plot(kind='barh', figsize=figsize)\n",
    "    ax.set(xlabel='Importance',\n",
    "            ylabel='Feature Names',\n",
    "            title=title)\n",
    "    ## return ax in case want to continue to update/modify figure\n",
    "    return ax"
   ]
  },
  {
   "cell_type": "code",
   "execution_count": 53,
   "id": "c36e983e",
   "metadata": {
    "hidden": true
   },
   "outputs": [],
   "source": [
    "def annotate_hbars(ax, ha='left', va='center', size=12, xytext=(4,0),\n",
    "                  textcoords='offset points'):\n",
    "    for bar in ax.patches:\n",
    "    \n",
    "        ## calculate center of bar\n",
    "        bar_ax = bar.get_y() + bar.get_height() / 2\n",
    "        ## get the value to annotate\n",
    "        val = bar.get_width()\n",
    "        if val < 0:\n",
    "            val_pos = 0\n",
    "        else:\n",
    "            val_pos = val\n",
    "        # ha and va stand for the horizontal and vertical alignment\n",
    "        ax.annotate(f\"{val:.3f}\", (val_pos,bar_ax), ha=ha, va=va, size=size,\n",
    "                        xytext=xytext, textcoords=textcoords)"
   ]
  },
  {
   "cell_type": "code",
   "execution_count": 54,
   "id": "56df5e44",
   "metadata": {
    "hidden": true
   },
   "outputs": [],
   "source": [
    "def plot_coeffs(coeffs, top_n=None,  figsize=(4,5), intercept=False, \n",
    "                annotate=False, ha='left',va='center', size=12, xytext=(4,0),\n",
    "                  textcoords='offset points'):\n",
    "    \"\"\"Plots the top_n coefficients from a Series, with optional annotations.\"\"\"\n",
    "    if (intercept==False) & ('intercept' in coeffs.index):\n",
    "        coeffs = coeffs.drop('intercept')\n",
    "    if top_n==None:\n",
    "        ## sort all features and set title\n",
    "        plot_vals = coeffs#.sort_values()\n",
    "        title = \"All Coefficients - Ranked by Magnitude\"\n",
    "    else:\n",
    "        ## rank the coeffs and select the top_n\n",
    "        coeff_rank = coeffs.abs().rank().sort_values(ascending=False)\n",
    "        top_n_features = coeff_rank.head(top_n)\n",
    "        plot_vals = coeffs.loc[top_n_features.index].sort_values()\n",
    "        ## sort features and keep top_n and set title\n",
    "        title = f\"Top {top_n} Largest Coefficients\"\n",
    "    ## plotting top N importances\n",
    "    ax = plot_vals.plot(kind='barh', figsize=figsize)\n",
    "    ax.set(xlabel='Coefficient', \n",
    "           ylabel='Feature Names', \n",
    "           title=title)\n",
    "    ax.axvline(0, color='k')\n",
    "    \n",
    "    if annotate==True:\n",
    "        annotate_hbars(ax, ha=ha,va=va,size=size,xytext=xytext,\n",
    "                       textcoords=textcoords)\n",
    "    ## return ax in case want to continue to update/modify figure\n",
    "    return ax\n",
    "\n",
    "def annotate_hbars(ax, ha='left',va='center',size=12,  xytext=(4,0),\n",
    "                  textcoords='offset points'):\n",
    "    for bar in ax.patches:\n",
    "    \n",
    "        ## calculate center of bar\n",
    "        bar_ax = bar.get_y() + bar.get_height()/2\n",
    "        ## get the value to annotate\n",
    "        val = bar.get_width()\n",
    "        if val < 0:\n",
    "            val_pos = 0\n",
    "        else:\n",
    "            val_pos = val\n",
    "        # ha and va stand for the horizontal and vertical alignment\n",
    "        ax.annotate(f\"{val:.3f}\", (val_pos,bar_ax), ha=ha,va=va,size=size,\n",
    "                        xytext=xytext, textcoords=textcoords)"
   ]
  },
  {
   "cell_type": "code",
   "execution_count": 55,
   "id": "1a68159a",
   "metadata": {
    "hidden": true
   },
   "outputs": [],
   "source": [
    "def get_importances(model, feature_names=None,name='Feature Importance',\n",
    "                   sort=False, ascending=True):\n",
    "    \n",
    "    ## checking for feature names\n",
    "    if feature_names == None:\n",
    "        feature_names = model.feature_names_in_\n",
    "        \n",
    "    ## Saving the feature importances\n",
    "    importances = pd.Series(model.feature_importances_, index= feature_names,\n",
    "                           name=name)\n",
    "    \n",
    "    # sort importances\n",
    "    if sort == True:\n",
    "        importances = importances.sort_values(ascending=ascending)\n",
    "        \n",
    "    return importances"
   ]
  },
  {
   "cell_type": "code",
   "execution_count": 56,
   "id": "15eea357",
   "metadata": {
    "hidden": true
   },
   "outputs": [],
   "source": [
    "def evaluate_regression(model, X_train,y_train, X_test, y_test): \n",
    "    \"\"\"Evaluates a scikit learn regression model using r-squared and RMSE\"\"\"\n",
    "    \n",
    "    ## Training Data\n",
    "    y_pred_train = model.predict(X_train)\n",
    "    r2_train = metrics.r2_score(y_train, y_pred_train)\n",
    "    rmse_train = metrics.mean_squared_error(y_train, y_pred_train, \n",
    "                                            squared=False)\n",
    "    \n",
    "    print(f\"Training Data:\\tR^2= {r2_train:.2f}\\tRMSE= {rmse_train:.2f}\")\n",
    "        \n",
    "    \n",
    "    ## Test Data\n",
    "    y_pred_test = model.predict(X_test)\n",
    "    r2_test = metrics.r2_score(y_test, y_pred_test)\n",
    "    rmse_test = metrics.mean_squared_error(y_test, y_pred_test, \n",
    "                                            squared=False)\n",
    "    \n",
    "    print(f\"Test Data:\\tR^2= {r2_test:.2f}\\tRMSE= {rmse_test:.2f}\")"
   ]
  },
  {
   "cell_type": "code",
   "execution_count": 57,
   "id": "8cde7bde",
   "metadata": {
    "hidden": true
   },
   "outputs": [],
   "source": [
    "def plot_importance_color(importances, top_n=None,  figsize=(8,6), \n",
    "                          color_dict=None):\n",
    "    \n",
    "    # sorting with asc=false for correct order of bars\n",
    "    if top_n==None:\n",
    "        ## sort all features and set title\n",
    "        plot_vals = importances.sort_values()\n",
    "        title = \"All Features - Ranked by Importance\"\n",
    "    else:\n",
    "        ## sort features and keep top_n and set title\n",
    "        plot_vals = importances.sort_values().tail(top_n)\n",
    "        title = f\"Top {top_n} Most Important Features\"\n",
    "    ## create plot with colors, if provided\n",
    "    if color_dict is not None:\n",
    "        ## Getting color list and saving to plot_kws\n",
    "        colors = plot_vals.index.map(color_dict)\n",
    "        ax = plot_vals.plot(kind='barh', figsize=figsize, color=colors)\n",
    "        \n",
    "    else:\n",
    "        ## create plot without colors, if not provided\n",
    "        ax = plot_vals.plot(kind='barh', figsize=figsize)\n",
    "        \n",
    "    # set titles and axis labels\n",
    "    ax.set(xlabel='Importance', \n",
    "           ylabel='Feature Names', \n",
    "           title=title)\n",
    "    \n",
    "    ## return ax in case want to continue to update/modify figure\n",
    "    return ax"
   ]
  },
  {
   "cell_type": "code",
   "execution_count": 58,
   "id": "1be89851",
   "metadata": {
    "hidden": true
   },
   "outputs": [],
   "source": [
    "def plot_importance_color_ax(importances, top_n=None,  figsize=(8,6), \n",
    "                          color_dict=None, ax=None):\n",
    "    \n",
    "    # sorting with asc=false for correct order of bars\n",
    "    if top_n==None:\n",
    "        ## sort all features and set title\n",
    "        plot_vals = importances.sort_values()\n",
    "        title = \"All Features - Ranked by Importance\"\n",
    "    else:\n",
    "        ## sort features and keep top_n and set title\n",
    "        plot_vals = importances.sort_values().tail(top_n)\n",
    "        title = f\"Top {top_n} Most Important Features\"\n",
    "    ## create plot with colors, if provided\n",
    "    if color_dict is not None:\n",
    "        ## Getting color list and saving to plot_kws\n",
    "        colors = plot_vals.index.map(color_dict)\n",
    "        ax = plot_vals.plot(kind='barh', figsize=figsize, color=colors, ax=ax)\n",
    "        \n",
    "    else:\n",
    "        ## create plot without colors, if not provided\n",
    "        ax = plot_vals.plot(kind='barh', figsize=figsize, ax=ax)\n",
    "        \n",
    "    # set titles and axis labels\n",
    "    ax.set(xlabel='Importance', \n",
    "           ylabel='Feature Names', \n",
    "           title=title)\n",
    "    \n",
    "    ## return ax in case want to continue to update/modify figure\n",
    "    return ax"
   ]
  },
  {
   "cell_type": "code",
   "execution_count": 59,
   "id": "55352dfa",
   "metadata": {
    "hidden": true
   },
   "outputs": [],
   "source": [
    "def get_color_dict(importances, color_rest='#006ba4' , color_top='green',\n",
    "                    top_n=7):\n",
    "    ## color -coding top 5 bars\n",
    "    highlight_feats = importances.sort_values(ascending=True).tail(top_n).index\n",
    "    colors_dict = {col: color_top if col in highlight_feats else color_rest for col in importances.index}\n",
    "    return colors_dict"
   ]
  },
  {
   "cell_type": "code",
   "execution_count": 60,
   "id": "09fbc0c5",
   "metadata": {
    "hidden": true
   },
   "outputs": [],
   "source": [
    "def get_coeffs_linreg(lin_reg, feature_names = None, sort=True,ascending=True,\n",
    "                     name='LinearRegression Coefficients'):\n",
    "    if feature_names is None:\n",
    "        feature_names = lin_reg.feature_names_in_\n",
    "    ## Saving the coefficients\n",
    "    coeffs = pd.Series(lin_reg.coef_, index= feature_names)\n",
    "    coeffs['intercept'] = lin_reg.intercept_\n",
    "    if sort==True:\n",
    "        coeffs = coeffs.sort_values(ascending=ascending)\n",
    "    return coeffs"
   ]
  },
  {
   "cell_type": "markdown",
   "id": "ae6f4c61",
   "metadata": {
    "heading_collapsed": true
   },
   "source": [
    "## Perform Train/Test Split"
   ]
  },
  {
   "cell_type": "code",
   "execution_count": 61,
   "id": "57dba160",
   "metadata": {
    "hidden": true
   },
   "outputs": [
    {
     "data": {
      "text/html": [
       "<div>\n",
       "<style scoped>\n",
       "    .dataframe tbody tr th:only-of-type {\n",
       "        vertical-align: middle;\n",
       "    }\n",
       "\n",
       "    .dataframe tbody tr th {\n",
       "        vertical-align: top;\n",
       "    }\n",
       "\n",
       "    .dataframe thead th {\n",
       "        text-align: right;\n",
       "    }\n",
       "</style>\n",
       "<table border=\"1\" class=\"dataframe\">\n",
       "  <thead>\n",
       "    <tr style=\"text-align: right;\">\n",
       "      <th></th>\n",
       "      <th>d_returns</th>\n",
       "      <th>cumm_returns</th>\n",
       "      <th>cumm_max</th>\n",
       "      <th>draw_down</th>\n",
       "      <th>draw_down_percentage</th>\n",
       "    </tr>\n",
       "    <tr>\n",
       "      <th>Date</th>\n",
       "      <th></th>\n",
       "      <th></th>\n",
       "      <th></th>\n",
       "      <th></th>\n",
       "      <th></th>\n",
       "    </tr>\n",
       "  </thead>\n",
       "  <tbody>\n",
       "    <tr>\n",
       "      <th>2019-03-01</th>\n",
       "      <td>0.006224</td>\n",
       "      <td>6.382248</td>\n",
       "      <td>6.681764</td>\n",
       "      <td>0.299516</td>\n",
       "      <td>0.044826</td>\n",
       "    </tr>\n",
       "    <tr>\n",
       "      <th>2017-05-19</th>\n",
       "      <td>0.006483</td>\n",
       "      <td>5.423841</td>\n",
       "      <td>5.469132</td>\n",
       "      <td>0.045292</td>\n",
       "      <td>0.008281</td>\n",
       "    </tr>\n",
       "    <tr>\n",
       "      <th>2018-02-23</th>\n",
       "      <td>0.015814</td>\n",
       "      <td>6.252290</td>\n",
       "      <td>6.522446</td>\n",
       "      <td>0.270156</td>\n",
       "      <td>0.041419</td>\n",
       "    </tr>\n",
       "    <tr>\n",
       "      <th>2014-10-23</th>\n",
       "      <td>0.011558</td>\n",
       "      <td>4.436529</td>\n",
       "      <td>4.593343</td>\n",
       "      <td>0.156814</td>\n",
       "      <td>0.034139</td>\n",
       "    </tr>\n",
       "    <tr>\n",
       "      <th>1998-06-19</th>\n",
       "      <td>-0.008200</td>\n",
       "      <td>2.504979</td>\n",
       "      <td>2.573969</td>\n",
       "      <td>0.068990</td>\n",
       "      <td>0.026803</td>\n",
       "    </tr>\n",
       "  </tbody>\n",
       "</table>\n",
       "</div>"
      ],
      "text/plain": [
       "            d_returns  cumm_returns  cumm_max  draw_down  draw_down_percentage\n",
       "Date                                                                          \n",
       "2019-03-01   0.006224      6.382248  6.681764   0.299516              0.044826\n",
       "2017-05-19   0.006483      5.423841  5.469132   0.045292              0.008281\n",
       "2018-02-23   0.015814      6.252290  6.522446   0.270156              0.041419\n",
       "2014-10-23   0.011558      4.436529  4.593343   0.156814              0.034139\n",
       "1998-06-19  -0.008200      2.504979  2.573969   0.068990              0.026803"
      ]
     },
     "execution_count": 61,
     "metadata": {},
     "output_type": "execute_result"
    }
   ],
   "source": [
    "y = spy['Close'].copy()\n",
    "X = spy.drop(columns=['Close'])\n",
    "\n",
    "X_train, X_test, y_train, y_test = train_test_split(X,y, random_state=42)\n",
    "X_train.head()"
   ]
  },
  {
   "cell_type": "code",
   "execution_count": 62,
   "id": "c09950e9",
   "metadata": {
    "hidden": true
   },
   "outputs": [],
   "source": [
    "num_sel = make_column_selector(dtype_include='number')"
   ]
  },
  {
   "cell_type": "code",
   "execution_count": 63,
   "id": "f10da138",
   "metadata": {
    "hidden": true
   },
   "outputs": [],
   "source": [
    "num_pipe = make_pipeline(SimpleImputer(strategy='mean'))"
   ]
  },
  {
   "cell_type": "code",
   "execution_count": 64,
   "id": "98a2dba7",
   "metadata": {
    "hidden": true
   },
   "outputs": [
    {
     "data": {
      "text/html": [
       "<div>\n",
       "<style scoped>\n",
       "    .dataframe tbody tr th:only-of-type {\n",
       "        vertical-align: middle;\n",
       "    }\n",
       "\n",
       "    .dataframe tbody tr th {\n",
       "        vertical-align: top;\n",
       "    }\n",
       "\n",
       "    .dataframe thead th {\n",
       "        text-align: right;\n",
       "    }\n",
       "</style>\n",
       "<table border=\"1\" class=\"dataframe\">\n",
       "  <thead>\n",
       "    <tr style=\"text-align: right;\">\n",
       "      <th></th>\n",
       "      <th>d_returns</th>\n",
       "      <th>cumm_returns</th>\n",
       "      <th>cumm_max</th>\n",
       "      <th>draw_down</th>\n",
       "      <th>draw_down_percentage</th>\n",
       "    </tr>\n",
       "    <tr>\n",
       "      <th>Date</th>\n",
       "      <th></th>\n",
       "      <th></th>\n",
       "      <th></th>\n",
       "      <th></th>\n",
       "      <th></th>\n",
       "    </tr>\n",
       "  </thead>\n",
       "  <tbody>\n",
       "    <tr>\n",
       "      <th>1997-09-08</th>\n",
       "      <td>0.004352</td>\n",
       "      <td>2.129090</td>\n",
       "      <td>2.185633</td>\n",
       "      <td>0.056543</td>\n",
       "      <td>0.025870</td>\n",
       "    </tr>\n",
       "    <tr>\n",
       "      <th>2002-02-22</th>\n",
       "      <td>0.012297</td>\n",
       "      <td>2.495363</td>\n",
       "      <td>3.495021</td>\n",
       "      <td>0.999659</td>\n",
       "      <td>0.286024</td>\n",
       "    </tr>\n",
       "    <tr>\n",
       "      <th>2021-06-30</th>\n",
       "      <td>0.000841</td>\n",
       "      <td>9.742475</td>\n",
       "      <td>9.742475</td>\n",
       "      <td>0.000000</td>\n",
       "      <td>0.000000</td>\n",
       "    </tr>\n",
       "  </tbody>\n",
       "</table>\n",
       "</div>"
      ],
      "text/plain": [
       "            d_returns  cumm_returns  cumm_max  draw_down  draw_down_percentage\n",
       "Date                                                                          \n",
       "1997-09-08   0.004352      2.129090  2.185633   0.056543              0.025870\n",
       "2002-02-22   0.012297      2.495363  3.495021   0.999659              0.286024\n",
       "2021-06-30   0.000841      9.742475  9.742475   0.000000              0.000000"
      ]
     },
     "execution_count": 64,
     "metadata": {},
     "output_type": "execute_result"
    }
   ],
   "source": [
    "preprocessor = make_column_transformer((num_pipe, num_sel), verbose_feature_names_out=False)\n",
    "\n",
    "preprocessor.fit(X_train)\n",
    "feature_names = preprocessor.get_feature_names_out()\n",
    "\n",
    "X_train_df = pd.DataFrame(preprocessor.transform(X_train),\n",
    "                         columns = feature_names, index = X_train.index)\n",
    "X_test_df = pd.DataFrame(preprocessor.transform(X_test),\n",
    "                        columns = feature_names, index = X_test.index)\n",
    "X_test_df.head(3)"
   ]
  },
  {
   "cell_type": "code",
   "execution_count": 65,
   "id": "02924a9d",
   "metadata": {
    "hidden": true
   },
   "outputs": [
    {
     "data": {
      "text/plain": [
       "Date\n",
       "1997-09-08     93.546875\n",
       "2002-02-22    109.639999\n",
       "2021-06-30    428.059998\n",
       "Name: Close, dtype: float64"
      ]
     },
     "execution_count": 65,
     "metadata": {},
     "output_type": "execute_result"
    }
   ],
   "source": [
    "y_test.head(3)"
   ]
  },
  {
   "cell_type": "code",
   "execution_count": 66,
   "id": "cc017499",
   "metadata": {
    "hidden": true
   },
   "outputs": [
    {
     "name": "stdout",
     "output_type": "stream",
     "text": [
      "Training Data:\tR^2= 1.00\tRMSE= 0.00\n",
      "Test Data:\tR^2= 1.00\tRMSE= 0.00\n"
     ]
    }
   ],
   "source": [
    "# fitting a linear regression model\n",
    "lin_reg = LinearRegression()\n",
    "lin_reg.fit(X_train_df, y_train)\n",
    "evaluate_regression(lin_reg, X_train_df, y_train, X_test_df, y_test)"
   ]
  },
  {
   "cell_type": "code",
   "execution_count": 67,
   "id": "7e486039",
   "metadata": {
    "hidden": true
   },
   "outputs": [
    {
     "data": {
      "text/plain": [
       "draw_down              -1.838900e+01\n",
       "draw_down_percentage   -2.443379e-12\n",
       "intercept              -6.252776e-13\n",
       "d_returns               1.647523e-12\n",
       "cumm_max                1.838900e+01\n",
       "cumm_returns            2.554850e+01\n",
       "dtype: float64"
      ]
     },
     "execution_count": 67,
     "metadata": {},
     "output_type": "execute_result"
    }
   ],
   "source": [
    "coeffs = get_coeffs_linreg(lin_reg)\n",
    "coeffs"
   ]
  },
  {
   "cell_type": "code",
   "execution_count": 68,
   "id": "7d8630eb",
   "metadata": {
    "hidden": true
   },
   "outputs": [
    {
     "data": {
      "image/png": "[encoded data removed]",
      "text/plain": [
       "<Figure size 400x500 with 1 Axes>"
      ]
     },
     "metadata": {},
     "output_type": "display_data"
    }
   ],
   "source": [
    "plot_coeffs(coeffs, top_n=3,annotate=True);"
   ]
  },
  {
   "cell_type": "markdown",
   "id": "3e7b8c9c",
   "metadata": {},
   "source": [
    "## Random Forest"
   ]
  },
  {
   "cell_type": "code",
   "execution_count": 69,
   "id": "184289a3",
   "metadata": {},
   "outputs": [
    {
     "name": "stdout",
     "output_type": "stream",
     "text": [
      "Training Data:\tR^2= 1.00\tRMSE= 0.06\n",
      "Test Data:\tR^2= 1.00\tRMSE= 0.17\n"
     ]
    }
   ],
   "source": [
    "reg = RandomForestRegressor(random_state=SEED)\n",
    "reg.fit(X_train_df, y_train)\n",
    "evaluate_regression(reg, X_train_df, y_train, X_test_df, y_test)"
   ]
  },
  {
   "cell_type": "code",
   "execution_count": 70,
   "id": "607cb421",
   "metadata": {},
   "outputs": [
    {
     "data": {
      "text/plain": [
       "d_returns               6.838244e-07\n",
       "cumm_returns            9.984007e-01\n",
       "cumm_max                1.595368e-03\n",
       "draw_down               1.724953e-06\n",
       "draw_down_percentage    1.547416e-06\n",
       "Name: Feature Importance, dtype: float64"
      ]
     },
     "execution_count": 70,
     "metadata": {},
     "output_type": "execute_result"
    }
   ],
   "source": [
    "importances = pd.Series(reg.feature_importances_, index= feature_names,\n",
    "                       name='Feature Importance')\n",
    "importances"
   ]
  },
  {
   "cell_type": "code",
   "execution_count": 71,
   "id": "ee4b2056",
   "metadata": {},
   "outputs": [
    {
     "data": {
      "text/plain": [
       "cumm_returns            9.984007e-01\n",
       "cumm_max                1.595368e-03\n",
       "draw_down               1.724953e-06\n",
       "draw_down_percentage    1.547416e-06\n",
       "d_returns               6.838244e-07\n",
       "Name: Feature Importance, dtype: float64"
      ]
     },
     "execution_count": 71,
     "metadata": {},
     "output_type": "execute_result"
    }
   ],
   "source": [
    "## Saving the feature importances sorted from largest to smallest (ascending=False)\n",
    "sorted_importance = importances.sort_values(ascending=False)\n",
    "sorted_importance"
   ]
  },
  {
   "cell_type": "code",
   "execution_count": 72,
   "id": "254ca06f",
   "metadata": {},
   "outputs": [
    {
     "data": {
      "image/png": "[encoded data removed]",
      "text/plain": [
       "<Figure size 800x600 with 1 Axes>"
      ]
     },
     "metadata": {},
     "output_type": "display_data"
    }
   ],
   "source": [
    "## just keep the top 5 importances and plot\n",
    "sorted_importance.head(5).plot(kind='barh',\n",
    "                                   figsize=(8,6));"
   ]
  },
  {
   "cell_type": "code",
   "execution_count": 74,
   "id": "09e63f73",
   "metadata": {},
   "outputs": [
    {
     "name": "stderr",
     "output_type": "stream",
     "text": [
      "C:\\Users\\cjhun\\AppData\\Local\\Temp\\ipykernel_11632\\2438084875.py:1: FutureWarning: The default value of numeric_only in DataFrame.corr is deprecated. In a future version, it will default to False. Select only valid columns or specify the value of numeric_only to silence this warning.\n",
      "  corr = df.corr()\n"
     ]
    },
    {
     "data": {
      "text/html": [
       "<div>\n",
       "<style scoped>\n",
       "    .dataframe tbody tr th:only-of-type {\n",
       "        vertical-align: middle;\n",
       "    }\n",
       "\n",
       "    .dataframe tbody tr th {\n",
       "        vertical-align: top;\n",
       "    }\n",
       "\n",
       "    .dataframe thead th {\n",
       "        text-align: right;\n",
       "    }\n",
       "</style>\n",
       "<table border=\"1\" class=\"dataframe\">\n",
       "  <thead>\n",
       "    <tr style=\"text-align: right;\">\n",
       "      <th></th>\n",
       "      <th>Open</th>\n",
       "      <th>High</th>\n",
       "      <th>Low</th>\n",
       "      <th>Close</th>\n",
       "      <th>Adj Close</th>\n",
       "      <th>Volume</th>\n",
       "    </tr>\n",
       "  </thead>\n",
       "  <tbody>\n",
       "    <tr>\n",
       "      <th>Open</th>\n",
       "      <td>1.000000</td>\n",
       "      <td>0.999946</td>\n",
       "      <td>0.999929</td>\n",
       "      <td>0.999879</td>\n",
       "      <td>0.997356</td>\n",
       "      <td>0.066268</td>\n",
       "    </tr>\n",
       "    <tr>\n",
       "      <th>High</th>\n",
       "      <td>0.999946</td>\n",
       "      <td>1.000000</td>\n",
       "      <td>0.999887</td>\n",
       "      <td>0.999925</td>\n",
       "      <td>0.997415</td>\n",
       "      <td>0.068549</td>\n",
       "    </tr>\n",
       "    <tr>\n",
       "      <th>Low</th>\n",
       "      <td>0.999929</td>\n",
       "      <td>0.999887</td>\n",
       "      <td>1.000000</td>\n",
       "      <td>0.999934</td>\n",
       "      <td>0.997415</td>\n",
       "      <td>0.063110</td>\n",
       "    </tr>\n",
       "    <tr>\n",
       "      <th>Close</th>\n",
       "      <td>0.999879</td>\n",
       "      <td>0.999925</td>\n",
       "      <td>0.999934</td>\n",
       "      <td>1.000000</td>\n",
       "      <td>0.997484</td>\n",
       "      <td>0.065513</td>\n",
       "    </tr>\n",
       "    <tr>\n",
       "      <th>Adj Close</th>\n",
       "      <td>0.997356</td>\n",
       "      <td>0.997415</td>\n",
       "      <td>0.997415</td>\n",
       "      <td>0.997484</td>\n",
       "      <td>1.000000</td>\n",
       "      <td>0.075012</td>\n",
       "    </tr>\n",
       "    <tr>\n",
       "      <th>Volume</th>\n",
       "      <td>0.066268</td>\n",
       "      <td>0.068549</td>\n",
       "      <td>0.063110</td>\n",
       "      <td>0.065513</td>\n",
       "      <td>0.075012</td>\n",
       "      <td>1.000000</td>\n",
       "    </tr>\n",
       "  </tbody>\n",
       "</table>\n",
       "</div>"
      ],
      "text/plain": [
       "               Open      High       Low     Close  Adj Close    Volume\n",
       "Open       1.000000  0.999946  0.999929  0.999879   0.997356  0.066268\n",
       "High       0.999946  1.000000  0.999887  0.999925   0.997415  0.068549\n",
       "Low        0.999929  0.999887  1.000000  0.999934   0.997415  0.063110\n",
       "Close      0.999879  0.999925  0.999934  1.000000   0.997484  0.065513\n",
       "Adj Close  0.997356  0.997415  0.997415  0.997484   1.000000  0.075012\n",
       "Volume     0.066268  0.068549  0.063110  0.065513   0.075012  1.000000"
      ]
     },
     "execution_count": 74,
     "metadata": {},
     "output_type": "execute_result"
    }
   ],
   "source": [
    "corr = df.corr()\n",
    "corr"
   ]
  },
  {
   "cell_type": "code",
   "execution_count": null,
   "id": "b85d3950",
   "metadata": {},
   "outputs": [],
   "source": []
  }
 ],
 "metadata": {
  "kernelspec": {
   "display_name": "Python (dojo-env)",
   "language": "python",
   "name": "dojo-env"
  },
  "language_info": {
   "codemirror_mode": {
    "name": "ipython",
    "version": 3
   },
   "file_extension": ".py",
   "mimetype": "text/x-python",
   "name": "python",
   "nbconvert_exporter": "python",
   "pygments_lexer": "ipython3",
   "version": "3.9.15"
  },
  "toc": {
   "base_numbering": 1,
   "nav_menu": {},
   "number_sections": false,
   "sideBar": true,
   "skip_h1_title": false,
   "title_cell": "Table of Contents",
   "title_sidebar": "Contents",
   "toc_cell": false,
   "toc_position": {},
   "toc_section_display": true,
   "toc_window_display": false
  }
 },
 "nbformat": 4,
 "nbformat_minor": 5
}
